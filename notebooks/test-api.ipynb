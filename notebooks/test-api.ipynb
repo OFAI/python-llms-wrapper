{
 "cells": [
  {
   "cell_type": "markdown",
   "id": "744579c6-ec0c-4c73-bb38-5c99a566056f",
   "metadata": {},
   "source": [
    "# test-api.ipynb\n",
    "\n",
    "Test API and helper functions"
   ]
  },
  {
   "cell_type": "code",
   "execution_count": 1,
   "id": "a6da6e33-e3dd-45d3-abad-ad48a617b1db",
   "metadata": {},
   "outputs": [],
   "source": [
    "import os, sys\n",
    "from typing import Optional, List, Dict\n",
    "sys.path.append(os.path.join(\"..\"))\n",
    "import hjson\n",
    "import docstring_parser\n",
    "import inspect\n",
    "from llms_wrapper.llms import LLMS\n",
    "from llms_wrapper.config import update_llm_config"
   ]
  },
  {
   "cell_type": "code",
   "execution_count": 6,
   "id": "7401b8b9-af81-4a1e-9bfa-bef00ec3ea68",
   "metadata": {},
   "outputs": [],
   "source": [
    "config = dict(\n",
    "    llms=[\n",
    "        # OpenAI\n",
    "        # https://platform.openai.com/docs/models\n",
    "        dict(llm=\"openai/gpt-4o\"),\n",
    "        dict(llm=\"openai/gpt-4o-mini\"),\n",
    "        dict(llm=\"openai/o1\"),        # restricted\n",
    "        dict(llm=\"openai/o1-mini\"),   # restricted\n",
    "        dict(llm=\"openai/gpt-4.5-preview\"),   # restricted?\n",
    "        # Google Gemini\n",
    "        # https://ai.google.dev/gemini-api/docs/models/gemini\n",
    "        dict(llm=\"gemini/gemini-2.0-flash-exp\"),\n",
    "        dict(llm=\"gemini/gemini-1.5-flash\"),\n",
    "        dict(llm=\"gemini/gemini-1.5-pro\"),\n",
    "        # Anthropic\n",
    "        # https://docs.anthropic.com/en/docs/about-claude/models\n",
    "        dict(llm=\"anthropic/claude-3-5-sonnet-20240620\"),\n",
    "        dict(llm=\"anthropic/claude-3-opus-20240229\"),\n",
    "        # Mistral\n",
    "        # https://docs.mistral.ai/getting-started/models/models_overview/\n",
    "        dict(llm=\"mistral/mistral-large-latest\"),\n",
    "        # XAI\n",
    "        # dict(llm=\"xai/grok-2\"),     # not mapped by litellm yet?\n",
    "        dict(llm=\"xai/grok-beta\"),\n",
    "        # Groq\n",
    "        # https://console.groq.com/docs/models\n",
    "        dict(llm=\"groq/llama3-70b-8192\"),\n",
    "        dict(llm=\"groq/llama-3.3-70b-versatile\"),\n",
    "        # Deepseek\n",
    "        # https://api-docs.deepseek.com/quick_start/pricing\n",
    "        dict(llm=\"deepseek/deepseek-chat\"),\n",
    "        dict(\n",
    "            llm=\"gemini/somemodel\",\n",
    "            max_input_tokens=100000,\n",
    "            cost_per_prompt_token=0.0002,\n",
    "            temperature=0,\n",
    "        ), \n",
    "    ],\n",
    "    providers = dict(\n",
    "        openai = dict(api_key_env=\"MY_OPENAI_API_KEY\"),\n",
    "        gemini = dict(api_key_env=\"MY_GEMINI_API_KEY\"),\n",
    "        anthropic = dict(api_key_env=\"MY_ANTHROPIC_API_KEY\"),\n",
    "        mistral = dict(api_key_env=\"MY_MISTRAL_API_KEY\"),\n",
    "        xai = dict(api_key_env=\"MY_XAI_API_KEY\"),    \n",
    "        groq = dict(api_key_env=\"MY_GROQ_API_KEY\"),\n",
    "        deepseek = dict(api_key_env=\"MY_DEEPSEEK_API_KEY\"),\n",
    "    )\n",
    ")\n",
    "_ = update_llm_config(config)"
   ]
  },
  {
   "cell_type": "code",
   "execution_count": 7,
   "id": "078083b6-dcf4-4d7e-9950-36ffb058732a",
   "metadata": {},
   "outputs": [
    {
     "name": "stderr",
     "output_type": "stream",
     "text": [
      "Overriding of current TracerProvider is not allowed\n",
      "Attempting to instrument while already instrumented\n",
      "Attempting to instrument while already instrumented\n"
     ]
    },
    {
     "name": "stdout",
     "output_type": "stream",
     "text": [
      "🔭 OpenTelemetry Tracing Details 🔭\n",
      "|  Phoenix Project: llms_wrapper_test\n",
      "|  Span Processor: SimpleSpanProcessor\n",
      "|  Collector Endpoint: http://0.0.0.0:6006/v1/traces\n",
      "|  Transport: HTTP + protobuf\n",
      "|  Transport Headers: {}\n",
      "|  \n",
      "|  Using a default SpanProcessor. `add_span_processor` will overwrite this default.\n",
      "|  \n",
      "|  `register` has set this TracerProvider as the global OpenTelemetry default.\n",
      "|  To disable this behavior, call `register` with `set_global_tracer_provider=False`.\n",
      "\n"
     ]
    }
   ],
   "source": [
    "llms = LLMS(config,  use_phoenix=(\"http://0.0.0.0:6006/v1/traces\", \"llms_wrapper_test\"))"
   ]
  },
  {
   "cell_type": "code",
   "execution_count": 8,
   "id": "8a2eb12c-7219-49ee-8f47-e3e87b719795",
   "metadata": {
    "scrolled": true
   },
   "outputs": [
    {
     "data": {
      "text/plain": [
       "['openai/gpt-4o',\n",
       " 'openai/gpt-4o-mini',\n",
       " 'openai/o1',\n",
       " 'openai/o1-mini',\n",
       " 'openai/gpt-4.5-preview',\n",
       " 'gemini/gemini-2.0-flash-exp',\n",
       " 'gemini/gemini-1.5-flash',\n",
       " 'gemini/gemini-1.5-pro',\n",
       " 'anthropic/claude-3-5-sonnet-20240620',\n",
       " 'anthropic/claude-3-opus-20240229',\n",
       " 'mistral/mistral-large-latest',\n",
       " 'xai/grok-beta',\n",
       " 'groq/llama3-70b-8192',\n",
       " 'groq/llama-3.3-70b-versatile',\n",
       " 'deepseek/deepseek-chat',\n",
       " 'gemini/somemodel']"
      ]
     },
     "execution_count": 8,
     "metadata": {},
     "output_type": "execute_result"
    }
   ],
   "source": [
    "llms.list_aliases()"
   ]
  },
  {
   "cell_type": "code",
   "execution_count": 10,
   "id": "f000f97f-a6ae-474c-bf3b-61e3dc5d372b",
   "metadata": {},
   "outputs": [],
   "source": [
    "# llms.known_models()"
   ]
  },
  {
   "cell_type": "code",
   "execution_count": 5,
   "id": "a5026a5a-28d8-4790-991f-6ba1e21d1b85",
   "metadata": {},
   "outputs": [
    {
     "data": {
      "text/plain": [
       "(1e-05, 2.5e-06)"
      ]
     },
     "execution_count": 5,
     "metadata": {},
     "output_type": "execute_result"
    }
   ],
   "source": [
    "llms.cost_per_token(\"openai/gpt-4o\")"
   ]
  },
  {
   "cell_type": "code",
   "execution_count": 6,
   "id": "50489a92-0520-4ae9-ad74-7c5f27c6c25e",
   "metadata": {},
   "outputs": [
    {
     "data": {
      "text/plain": [
       "16384"
      ]
     },
     "execution_count": 6,
     "metadata": {},
     "output_type": "execute_result"
    }
   ],
   "source": [
    "llms.max_input_tokens(\"openai/gpt-4o\")"
   ]
  },
  {
   "cell_type": "code",
   "execution_count": 7,
   "id": "e6011eb7-ffbe-404f-97d2-31430ed0fb31",
   "metadata": {},
   "outputs": [
    {
     "data": {
      "text/plain": [
       "16384"
      ]
     },
     "execution_count": 7,
     "metadata": {},
     "output_type": "execute_result"
    }
   ],
   "source": [
    "llms.max_output_tokens(\"openai/gpt-4o\")"
   ]
  },
  {
   "cell_type": "code",
   "execution_count": 8,
   "id": "5b7cd6bb-8bfb-422b-a534-c4573e045601",
   "metadata": {},
   "outputs": [
    {
     "data": {
      "text/plain": [
       "{'llm': 'gemini/somemodel',\n",
       " 'max_input_tokens': 100000,\n",
       " 'cost_per_prompt_token': 0.0002,\n",
       " 'temperature': 0,\n",
       " 'api_key_env': 'MY_GEMINI_API_KEY',\n",
       " 'alias': 'gemini/somemodel',\n",
       " '_cost': 0,\n",
       " '_elapsed_time': 0}"
      ]
     },
     "execution_count": 8,
     "metadata": {},
     "output_type": "execute_result"
    }
   ],
   "source": [
    "llms[\"gemini/somemodel\"].config"
   ]
  },
  {
   "cell_type": "code",
   "execution_count": 9,
   "id": "5e5714ff-6849-4e26-9bdd-d8201a89e6dc",
   "metadata": {},
   "outputs": [
    {
     "data": {
      "text/plain": [
       "(3e-07, 7.5e-08)"
      ]
     },
     "execution_count": 9,
     "metadata": {},
     "output_type": "execute_result"
    }
   ],
   "source": [
    "llms.cost_per_token(\"gemini/gemini-1.5-flash\")"
   ]
  },
  {
   "cell_type": "code",
   "execution_count": 10,
   "id": "99c6e1a2-5fb8-45d0-ac59-8f8639dca7c5",
   "metadata": {},
   "outputs": [
    {
     "data": {
      "text/plain": [
       "(0.0002, None)"
      ]
     },
     "execution_count": 10,
     "metadata": {},
     "output_type": "execute_result"
    }
   ],
   "source": [
    "llms.cost_per_token(\"gemini/somemodel\")"
   ]
  },
  {
   "cell_type": "code",
   "execution_count": 11,
   "id": "9607b8e0-89a1-4238-9fd7-05678fb3b85e",
   "metadata": {},
   "outputs": [
    {
     "data": {
      "text/plain": [
       "100000"
      ]
     },
     "execution_count": 11,
     "metadata": {},
     "output_type": "execute_result"
    }
   ],
   "source": [
    "llms.max_input_tokens(\"gemini/somemodel\")"
   ]
  },
  {
   "cell_type": "code",
   "execution_count": 12,
   "id": "92f28e32-89f8-4a1e-bea5-7d52917383d7",
   "metadata": {},
   "outputs": [],
   "source": [
    "llms.max_output_tokens(\"gemini/somemodel\")"
   ]
  },
  {
   "cell_type": "code",
   "execution_count": 11,
   "id": "3ae2ffc1-96d0-4e24-a6c7-08a0e1a22893",
   "metadata": {},
   "outputs": [],
   "source": [
    "msg1 = llms.make_messages(\"What is a monoid?\")"
   ]
  },
  {
   "cell_type": "code",
   "execution_count": 14,
   "id": "f33605e6-4a15-4bef-b236-5611aeba5d71",
   "metadata": {},
   "outputs": [
    {
     "data": {
      "text/plain": [
       "{'elapsed_time': 15.684860944747925,\n",
       " 'answer': 'In abstract algebra, a **monoid** is an algebraic structure consisting of:\\n\\n- A **set** \\\\(M\\\\),\\n- A binary **operation** (often denoted by \\\\(\\\\cdot\\\\) or simply by juxtaposition) that is associative,\\n  \\\\[\\n  (a \\\\cdot b) \\\\cdot c = a \\\\cdot (b \\\\cdot c), \\\\quad \\\\text{for all } a,b,c \\\\in M.\\n  \\\\]\\n- An **identity element** \\\\( e \\\\) in the set (called the identity of the monoid), which satisfies:\\n  \\\\[\\n  e \\\\cdot a = a \\\\cdot e = a, \\\\quad \\\\text{for all } a \\\\in M.\\n  \\\\]\\n\\nThus, a monoid can be written explicitly as the triple \\\\((M, \\\\cdot, e)\\\\), satisfying associativity and identity.\\n\\n**Examples:**\\n\\n1. **Natural numbers** (\\\\(\\\\mathbb{N}\\\\)) under addition form a monoid, with 0 as the identity element.\\n2. **Positive integers** under multiplication form a monoid, with 1 as the identity element.\\n3. **Strings** over a given alphabet under concatenation form a monoid, with the empty string as the identity element.\\n\\nMonoids generalize groups by removing the requirement for the existence of inverses; thus, every group is a monoid, but not every monoid is a group.',\n",
       " 'error': '',\n",
       " 'ok': True}"
      ]
     },
     "execution_count": 14,
     "metadata": {},
     "output_type": "execute_result"
    }
   ],
   "source": [
    "llms.query(llmalias=\"openai/gpt-4.5-preview\", messages=msg1)"
   ]
  },
  {
   "cell_type": "code",
   "execution_count": 12,
   "id": "7439591a-2b20-4775-8997-d2c975129a8c",
   "metadata": {},
   "outputs": [],
   "source": [
    "msg2 = llms.make_messages(\"What is a monoid? Return a JSON dict that has the single key 'answer' that contains your answer.\")"
   ]
  },
  {
   "cell_type": "code",
   "execution_count": 18,
   "id": "35eaced1-5c4c-4afc-b7c8-b28d6e33b059",
   "metadata": {},
   "outputs": [
    {
     "data": {
      "text/plain": [
       "{'elapsed_time': 4.468285083770752,\n",
       " 'answer': '{\"answer\": \"A monoid is an algebraic structure with a single associative binary operation and an identity element. Formally, a set M is a monoid if it is equipped with a binary operation \\\\\\\\(\\\\\\\\ast: M \\\\\\\\times M \\\\\\\\to M\\\\\\\\) such that: \\\\n1. Associativity: For all a, b, c in M, \\\\\\\\((a \\\\\\\\ast b) \\\\\\\\ast c = a \\\\\\\\ast (b \\\\\\\\ast c)\\\\\\\\).\\\\n2. Identity element: There exists an element e in M such that for all elements a in M, \\\\\\\\(e \\\\\\\\ast a = a \\\\\\\\ast e = a\\\\\\\\). \\\\nMonoids are foundational structures in abstract algebra and have applications in computer science and other fields.\"}',\n",
       " 'error': '',\n",
       " 'ok': True}"
      ]
     },
     "execution_count": 18,
     "metadata": {},
     "output_type": "execute_result"
    }
   ],
   "source": [
    "llms.query(llmalias=\"openai/gpt-4o\", messages=msg2, response_format=dict(type=\"json_object\"))"
   ]
  },
  {
   "cell_type": "code",
   "execution_count": 13,
   "id": "4c7f6986-347b-4e50-94bb-31272e798130",
   "metadata": {},
   "outputs": [],
   "source": [
    "def func1(a: str, b: int, c: int = 1, d: Optional[List[Dict]] = None) -> str: \n",
    "    \"\"\"\n",
    "    This is the short description.\n",
    "\n",
    "    Here we may have a longer description. This one can go over many lines\n",
    "\n",
    "    :param str a: this is parameter a\n",
    "    :param b: this is parameter b\n",
    "    :type b: int\n",
    "    :param c: some parameter c    \n",
    "    :param d: some parameter d\n",
    "    :return: what it returns\n",
    "    :rtype: str\n",
    "    \"\"\"\n",
    "    return \"x\"\n"
   ]
  },
  {
   "cell_type": "code",
   "execution_count": 14,
   "id": "b49ca6c6-e5ef-4a92-81b2-307c4c01143a",
   "metadata": {},
   "outputs": [
    {
     "data": {
      "text/plain": [
       "[{'type': 'function',\n",
       "  'function': {'name': 'func1',\n",
       "   'description': 'Here we may have a longer description. This one can go over many lines',\n",
       "   'parameters': {'type': 'object',\n",
       "    'properties': {'a': {'type': 'str', 'description': 'this is parameter a'},\n",
       "     'b': {'type': 'int', 'description': 'this is parameter b'},\n",
       "     'c': {'type': 'int', 'description': 'some parameter c'},\n",
       "     'd': {'type': 'Optional', 'description': 'some parameter d'}},\n",
       "    'required': ['a', 'b']}}}]"
      ]
     },
     "execution_count": 14,
     "metadata": {},
     "output_type": "execute_result"
    }
   ],
   "source": [
    "llms.make_tooling(func1)"
   ]
  },
  {
   "cell_type": "code",
   "execution_count": null,
   "id": "d3fe7a25-4431-4a57-b1ee-5d58e7e7b55e",
   "metadata": {},
   "outputs": [],
   "source": [
    "doc = docstring_parser.parse(func1.__doc__)"
   ]
  },
  {
   "cell_type": "code",
   "execution_count": null,
   "id": "dd9ecf31-7466-487a-be9e-b8c2ac6ee6ca",
   "metadata": {},
   "outputs": [],
   "source": [
    "doc.params[0]"
   ]
  },
  {
   "cell_type": "code",
   "execution_count": null,
   "id": "e14a9676-9521-4917-8bd0-85b15098161d",
   "metadata": {},
   "outputs": [],
   "source": [
    "len(doc.params)"
   ]
  },
  {
   "cell_type": "markdown",
   "id": "6dc453f9-dee7-4521-9e6a-77dcfe05c4aa",
   "metadata": {},
   "source": [
    "## Test Retries"
   ]
  },
  {
   "cell_type": "code",
   "execution_count": 16,
   "id": "8c507ee5-3501-48e6-b4e5-754e0b94b613",
   "metadata": {},
   "outputs": [
    {
     "data": {
      "text/plain": [
       "{'llms': [{'llm': 'ollama/llama3',\n",
       "   'api_url': 'http://localhost:11434',\n",
       "   'num_retries': 3}]}"
      ]
     },
     "execution_count": 16,
     "metadata": {},
     "output_type": "execute_result"
    }
   ],
   "source": [
    "config2 = dict(\n",
    "    llms = [\n",
    "        dict(llm=\"ollama/llama3\", api_url=\"http://localhost:11434\", num_retries=3)\n",
    "    ]\n",
    ")\n",
    "config2"
   ]
  },
  {
   "cell_type": "code",
   "execution_count": 18,
   "id": "4cabe5a3-e7b2-40d8-899e-e0c323e5961b",
   "metadata": {},
   "outputs": [
    {
     "name": "stderr",
     "output_type": "stream",
     "text": [
      "Overriding of current TracerProvider is not allowed\n",
      "Attempting to instrument while already instrumented\n",
      "Attempting to instrument while already instrumented\n"
     ]
    },
    {
     "name": "stdout",
     "output_type": "stream",
     "text": [
      "🔭 OpenTelemetry Tracing Details 🔭\n",
      "|  Phoenix Project: llms_wrapper_test\n",
      "|  Span Processor: SimpleSpanProcessor\n",
      "|  Collector Endpoint: http://0.0.0.0:6006/v1/traces\n",
      "|  Transport: HTTP + protobuf\n",
      "|  Transport Headers: {}\n",
      "|  \n",
      "|  Using a default SpanProcessor. `add_span_processor` will overwrite this default.\n",
      "|  \n",
      "|  `register` has set this TracerProvider as the global OpenTelemetry default.\n",
      "|  To disable this behavior, call `register` with `set_global_tracer_provider=False`.\n",
      "\n"
     ]
    },
    {
     "data": {
      "text/plain": [
       "{'llm': 'ollama/llama3',\n",
       " 'api_url': 'http://localhost:11434',\n",
       " 'num_retries': 3,\n",
       " '_cost': 0,\n",
       " '_elapsed_time': 0}"
      ]
     },
     "execution_count": 18,
     "metadata": {},
     "output_type": "execute_result"
    }
   ],
   "source": [
    "llms2 = LLMS(config2, use_phoenix=(\"http://0.0.0.0:6006/v1/traces\", \"llms_wrapper_test\"))\n",
    "# llms2 = LLMS(config2)\n",
    "llms2[\"ollama/llama3\"].config"
   ]
  },
  {
   "cell_type": "code",
   "execution_count": 27,
   "id": "0daa9377-6c0a-406a-a6be-c4403cf427fa",
   "metadata": {},
   "outputs": [],
   "source": [
    "messages = llms2.make_messages(query=\"What is a monoid\")"
   ]
  },
  {
   "cell_type": "code",
   "execution_count": 29,
   "id": "79719b7e-c4a8-45ed-90ad-26e2d999f7fa",
   "metadata": {},
   "outputs": [
    {
     "data": {
      "text/plain": [
       "{'llm': 'openai/gpt-4o',\n",
       " 'api_key_env': 'MY_OPENAI_API_KEY',\n",
       " 'alias': 'openai/gpt-4o',\n",
       " '_cost': 0,\n",
       " '_elapsed_time': 7.720749855041504}"
      ]
     },
     "execution_count": 29,
     "metadata": {},
     "output_type": "execute_result"
    }
   ],
   "source": [
    "llms[\"openai/gpt-4o\"].config"
   ]
  },
  {
   "cell_type": "code",
   "execution_count": 28,
   "id": "04f97697-039d-49de-a0ab-e0739b9b24dd",
   "metadata": {},
   "outputs": [
    {
     "data": {
      "text/plain": [
       "{'elapsed_time': 7.720749855041504,\n",
       " 'answer': 'In abstract algebra, a monoid is an algebraic structure that is an extension of a semigroup. A monoid consists of a set equipped with an associative binary operation and an identity element. More formally, a monoid is defined as follows:\\n\\n1. **Set and Binary Operation**: A monoid consists of a set \\\\( M \\\\) and a binary operation \\\\( *: M \\\\times M \\\\to M \\\\), meaning that for any two elements \\\\( a, b \\\\in M \\\\), the result \\\\( a * b \\\\) is also in \\\\( M \\\\).\\n\\n2. **Associativity**: The binary operation must be associative. This means that for any elements \\\\( a, b, c \\\\in M \\\\), the equation \\\\((a * b) * c = a * (b * c)\\\\) always holds.\\n\\n3. **Identity Element**: There must be an identity element \\\\( e \\\\in M \\\\) such that for every element \\\\( a \\\\in M \\\\), the equation \\\\( e * a = a * e = a \\\\) holds. The identity element is unique in a monoid.\\n\\nMonoids are used in various areas of mathematics and computer science, particularly in the study of structures and processes that combine elements in a consistent manner. A common example of a monoid is the set of natural numbers \\\\( \\\\mathbb{N} \\\\) with the operation of addition. Here, the identity element is 0, since adding 0 to any number returns the original number.',\n",
       " 'error': '',\n",
       " 'ok': True}"
      ]
     },
     "execution_count": 28,
     "metadata": {},
     "output_type": "execute_result"
    }
   ],
   "source": [
    "ret = llms.query(\n",
    "    \"openai/gpt-4o\", \n",
    "    messages=messages, \n",
    "    # return_cost=True,\n",
    "    debug=True,\n",
    "    num_retries=0,\n",
    ")\n",
    "ret"
   ]
  },
  {
   "cell_type": "code",
   "execution_count": null,
   "id": "f0fe619a-1b32-4ab8-8d20-cda433570a02",
   "metadata": {},
   "outputs": [],
   "source": []
  },
  {
   "cell_type": "code",
   "execution_count": null,
   "id": "ff8dd01a-92bb-4281-a983-a2561facbd77",
   "metadata": {},
   "outputs": [],
   "source": []
  }
 ],
 "metadata": {
  "kernelspec": {
   "display_name": "llms_wrapper",
   "language": "python",
   "name": "llms_wrapper"
  },
  "language_info": {
   "codemirror_mode": {
    "name": "ipython",
    "version": 3
   },
   "file_extension": ".py",
   "mimetype": "text/x-python",
   "name": "python",
   "nbconvert_exporter": "python",
   "pygments_lexer": "ipython3",
   "version": "3.11.11"
  }
 },
 "nbformat": 4,
 "nbformat_minor": 5
}
