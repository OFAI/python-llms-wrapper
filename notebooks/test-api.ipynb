{
 "cells": [
  {
   "cell_type": "markdown",
   "id": "744579c6-ec0c-4c73-bb38-5c99a566056f",
   "metadata": {},
   "source": [
    "# test-api.ipynb\n",
    "\n",
    "Test API and helper functions"
   ]
  },
  {
   "cell_type": "code",
   "execution_count": null,
   "id": "a6da6e33-e3dd-45d3-abad-ad48a617b1db",
   "metadata": {},
   "outputs": [],
   "source": [
    "import os, sys\n",
    "from typing import Optional, List, Dict\n",
    "sys.path.append(os.path.join(\"..\"))\n",
    "import hjson\n",
    "import docstring_parser\n",
    "import inspect\n",
    "from llms_wrapper.llms import LLMS\n",
    "from llms_wrapper.config import update_llm_config"
   ]
  },
  {
   "cell_type": "code",
   "execution_count": null,
   "id": "7401b8b9-af81-4a1e-9bfa-bef00ec3ea68",
   "metadata": {},
   "outputs": [],
   "source": [
    "config = dict(\n",
    "    llms=[\n",
    "        # OpenAI\n",
    "        # https://platform.openai.com/docs/models\n",
    "        dict(llm=\"openai/gpt-4o\"),\n",
    "        dict(llm=\"openai/gpt-4o-mini\"),\n",
    "        dict(llm=\"openai/o1\"),        # restricted\n",
    "        dict(llm=\"openai/o1-mini\"),   # restricted\n",
    "        dict(llm=\"openai/gpt-4.5-preview\"),   # restricted?\n",
    "        # Google Gemini\n",
    "        # https://ai.google.dev/gemini-api/docs/models/gemini\n",
    "        dict(llm=\"gemini/gemini-2.0-flash-exp\"),\n",
    "        dict(llm=\"gemini/gemini-1.5-flash\"),\n",
    "        dict(llm=\"gemini/gemini-1.5-pro\"),\n",
    "        # Anthropic\n",
    "        # https://docs.anthropic.com/en/docs/about-claude/models\n",
    "        dict(llm=\"anthropic/claude-3-5-sonnet-20240620\"),\n",
    "        dict(llm=\"anthropic/claude-3-opus-20240229\"),\n",
    "        # Mistral\n",
    "        # https://docs.mistral.ai/getting-started/models/models_overview/\n",
    "        dict(llm=\"mistral/mistral-large-latest\"),\n",
    "        # XAI\n",
    "        # dict(llm=\"xai/grok-2\"),     # not mapped by litellm yet?\n",
    "        dict(llm=\"xai/grok-beta\"),\n",
    "        # Groq\n",
    "        # https://console.groq.com/docs/models\n",
    "        dict(llm=\"groq/llama3-70b-8192\"),\n",
    "        dict(llm=\"groq/llama-3.3-70b-versatile\"),\n",
    "        # Deepseek\n",
    "        # https://api-docs.deepseek.com/quick_start/pricing\n",
    "        dict(llm=\"deepseek/deepseek-chat\"),\n",
    "        dict(\n",
    "            llm=\"gemini/somemodel\",\n",
    "            max_input_tokens=100000,\n",
    "            cost_per_prompt_token=0.0002,\n",
    "            temperature=0,\n",
    "        ), \n",
    "    ],\n",
    "    providers = dict(\n",
    "        openai = dict(api_key_env=\"MY_OPENAI_API_KEY\"),\n",
    "        gemini = dict(api_key_env=\"MY_GEMINI_API_KEY\"),\n",
    "        anthropic = dict(api_key_env=\"MY_ANTHROPIC_API_KEY\"),\n",
    "        mistral = dict(api_key_env=\"MY_MISTRAL_API_KEY\"),\n",
    "        xai = dict(api_key_env=\"MY_XAI_API_KEY\"),    \n",
    "        groq = dict(api_key_env=\"MY_GROQ_API_KEY\"),\n",
    "        deepseek = dict(api_key_env=\"MY_DEEPSEEK_API_KEY\"),\n",
    "    )\n",
    ")\n",
    "_ = update_llm_config(config)"
   ]
  },
  {
   "cell_type": "code",
   "execution_count": null,
   "id": "078083b6-dcf4-4d7e-9950-36ffb058732a",
   "metadata": {},
   "outputs": [],
   "source": [
    "llms = LLMS(config,  use_phoenix=(\"http://0.0.0.0:6006/v1/traces\", \"llms_wrapper_test\"))"
   ]
  },
  {
   "cell_type": "code",
   "execution_count": null,
   "id": "8a2eb12c-7219-49ee-8f47-e3e87b719795",
   "metadata": {
    "scrolled": true
   },
   "outputs": [],
   "source": [
    "llms.list_aliases()"
   ]
  },
  {
   "cell_type": "code",
   "execution_count": null,
   "id": "f000f97f-a6ae-474c-bf3b-61e3dc5d372b",
   "metadata": {},
   "outputs": [],
   "source": [
    "# llms.known_models()"
   ]
  },
  {
   "cell_type": "code",
   "execution_count": null,
   "id": "a5026a5a-28d8-4790-991f-6ba1e21d1b85",
   "metadata": {},
   "outputs": [],
   "source": [
    "llms.cost_per_token(\"openai/gpt-4o\")"
   ]
  },
  {
   "cell_type": "code",
   "execution_count": null,
   "id": "50489a92-0520-4ae9-ad74-7c5f27c6c25e",
   "metadata": {},
   "outputs": [],
   "source": [
    "llms.max_input_tokens(\"openai/gpt-4o\")"
   ]
  },
  {
   "cell_type": "code",
   "execution_count": null,
   "id": "e6011eb7-ffbe-404f-97d2-31430ed0fb31",
   "metadata": {},
   "outputs": [],
   "source": [
    "llms.max_output_tokens(\"openai/gpt-4o\")"
   ]
  },
  {
   "cell_type": "code",
   "execution_count": null,
   "id": "5b7cd6bb-8bfb-422b-a534-c4573e045601",
   "metadata": {},
   "outputs": [],
   "source": [
    "llms[\"gemini/somemodel\"].config"
   ]
  },
  {
   "cell_type": "code",
   "execution_count": null,
   "id": "5e5714ff-6849-4e26-9bdd-d8201a89e6dc",
   "metadata": {},
   "outputs": [],
   "source": [
    "llms.cost_per_token(\"gemini/gemini-1.5-flash\")"
   ]
  },
  {
   "cell_type": "code",
   "execution_count": null,
   "id": "99c6e1a2-5fb8-45d0-ac59-8f8639dca7c5",
   "metadata": {},
   "outputs": [],
   "source": [
    "llms.cost_per_token(\"gemini/somemodel\")"
   ]
  },
  {
   "cell_type": "code",
   "execution_count": null,
   "id": "9607b8e0-89a1-4238-9fd7-05678fb3b85e",
   "metadata": {},
   "outputs": [],
   "source": [
    "llms.max_input_tokens(\"gemini/somemodel\")"
   ]
  },
  {
   "cell_type": "code",
   "execution_count": null,
   "id": "92f28e32-89f8-4a1e-bea5-7d52917383d7",
   "metadata": {},
   "outputs": [],
   "source": [
    "llms.max_output_tokens(\"gemini/somemodel\")"
   ]
  },
  {
   "cell_type": "code",
   "execution_count": null,
   "id": "3ae2ffc1-96d0-4e24-a6c7-08a0e1a22893",
   "metadata": {},
   "outputs": [],
   "source": [
    "msg1 = llms.make_messages(\"What is a monoid?\")"
   ]
  },
  {
   "cell_type": "code",
   "execution_count": null,
   "id": "f33605e6-4a15-4bef-b236-5611aeba5d71",
   "metadata": {},
   "outputs": [],
   "source": [
    "ret1 = llms.query(llmalias=\"openai/gpt-4.5-preview\", return_cost=True, return_response=True, messages=msg1)\n",
    "ret1"
   ]
  },
  {
   "cell_type": "code",
   "execution_count": null,
   "id": "7439591a-2b20-4775-8997-d2c975129a8c",
   "metadata": {},
   "outputs": [],
   "source": [
    "msg2 = llms.make_messages(\"What is a monoid? Return a JSON dict that has the single key 'answer' that contains your answer.\")"
   ]
  },
  {
   "cell_type": "code",
   "execution_count": null,
   "id": "35eaced1-5c4c-4afc-b7c8-b28d6e33b059",
   "metadata": {},
   "outputs": [],
   "source": [
    "ret2=llms.query(\n",
    "    llmalias=\"openai/gpt-4o\", \n",
    "    return_response=True,\n",
    "    return_cost=True,\n",
    "    messages=msg2, response_format=dict(type=\"json_object\"))\n",
    "ret2"
   ]
  },
  {
   "cell_type": "code",
   "execution_count": null,
   "id": "ae374f33-c375-46fd-a645-b7ca711d6ea6",
   "metadata": {},
   "outputs": [],
   "source": [
    "# ret2[\"response\"].response_ms"
   ]
  },
  {
   "cell_type": "code",
   "execution_count": null,
   "id": "4c7f6986-347b-4e50-94bb-31272e798130",
   "metadata": {},
   "outputs": [],
   "source": [
    "def func1(a: str, b: int, c: int = 1, d: Optional[List[Dict]] = None) -> str: \n",
    "    \"\"\"\n",
    "    This is the short description.\n",
    "\n",
    "    Here we may have a longer description. This one can go over many lines\n",
    "\n",
    "    :param str a: this is parameter a\n",
    "    :param b: this is parameter b\n",
    "    :type b: int\n",
    "    :param c: some parameter c    \n",
    "    :param d: some parameter d\n",
    "    :return: what it returns\n",
    "    :rtype: str\n",
    "    \"\"\"\n",
    "    return \"x\"\n"
   ]
  },
  {
   "cell_type": "code",
   "execution_count": null,
   "id": "b49ca6c6-e5ef-4a92-81b2-307c4c01143a",
   "metadata": {},
   "outputs": [],
   "source": [
    "llms.make_tooling(func1)"
   ]
  },
  {
   "cell_type": "code",
   "execution_count": null,
   "id": "d3fe7a25-4431-4a57-b1ee-5d58e7e7b55e",
   "metadata": {},
   "outputs": [],
   "source": [
    "doc = docstring_parser.parse(func1.__doc__)"
   ]
  },
  {
   "cell_type": "code",
   "execution_count": null,
   "id": "dd9ecf31-7466-487a-be9e-b8c2ac6ee6ca",
   "metadata": {},
   "outputs": [],
   "source": [
    "doc.params[0]"
   ]
  },
  {
   "cell_type": "code",
   "execution_count": null,
   "id": "e14a9676-9521-4917-8bd0-85b15098161d",
   "metadata": {},
   "outputs": [],
   "source": [
    "len(doc.params)"
   ]
  },
  {
   "cell_type": "markdown",
   "id": "6dc453f9-dee7-4521-9e6a-77dcfe05c4aa",
   "metadata": {},
   "source": [
    "## Test Retries"
   ]
  },
  {
   "cell_type": "code",
   "execution_count": null,
   "id": "8c507ee5-3501-48e6-b4e5-754e0b94b613",
   "metadata": {},
   "outputs": [],
   "source": [
    "config2 = dict(\n",
    "    llms = [\n",
    "        dict(llm=\"ollama/llama3\", api_url=\"http://localhost:11434\", num_retries=3)\n",
    "    ]\n",
    ")\n",
    "config2"
   ]
  },
  {
   "cell_type": "code",
   "execution_count": null,
   "id": "4cabe5a3-e7b2-40d8-899e-e0c323e5961b",
   "metadata": {},
   "outputs": [],
   "source": [
    "llms2 = LLMS(config2, use_phoenix=(\"http://0.0.0.0:6006/v1/traces\", \"llms_wrapper_test\"))\n",
    "# llms2 = LLMS(config2)\n",
    "llms2[\"ollama/llama3\"].config"
   ]
  },
  {
   "cell_type": "code",
   "execution_count": null,
   "id": "0daa9377-6c0a-406a-a6be-c4403cf427fa",
   "metadata": {},
   "outputs": [],
   "source": [
    "messages = llms2.make_messages(query=\"What is a monoid\")"
   ]
  },
  {
   "cell_type": "code",
   "execution_count": null,
   "id": "79719b7e-c4a8-45ed-90ad-26e2d999f7fa",
   "metadata": {},
   "outputs": [],
   "source": [
    "llms[\"openai/gpt-4o\"].config"
   ]
  },
  {
   "cell_type": "code",
   "execution_count": null,
   "id": "04f97697-039d-49de-a0ab-e0739b9b24dd",
   "metadata": {},
   "outputs": [],
   "source": [
    "ret = llms.query(\n",
    "    \"openai/gpt-4o\", \n",
    "    messages=messages, \n",
    "    # return_cost=True,\n",
    "    debug=True,\n",
    "    num_retries=0,\n",
    ")\n",
    "ret"
   ]
  },
  {
   "cell_type": "code",
   "execution_count": null,
   "id": "f0fe619a-1b32-4ab8-8d20-cda433570a02",
   "metadata": {},
   "outputs": [],
   "source": []
  },
  {
   "cell_type": "code",
   "execution_count": null,
   "id": "ff8dd01a-92bb-4281-a983-a2561facbd77",
   "metadata": {},
   "outputs": [],
   "source": []
  }
 ],
 "metadata": {
  "kernelspec": {
   "display_name": "llms_wrapper",
   "language": "python",
   "name": "llms_wrapper"
  },
  "language_info": {
   "codemirror_mode": {
    "name": "ipython",
    "version": 3
   },
   "file_extension": ".py",
   "mimetype": "text/x-python",
   "name": "python",
   "nbconvert_exporter": "python",
   "pygments_lexer": "ipython3",
   "version": "3.11.11"
  }
 },
 "nbformat": 4,
 "nbformat_minor": 5
}
