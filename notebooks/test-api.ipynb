{
 "cells": [
  {
   "cell_type": "markdown",
   "id": "744579c6-ec0c-4c73-bb38-5c99a566056f",
   "metadata": {},
   "source": [
    "# test-api.ipynb\n",
    "\n",
    "Test API and helper functions"
   ]
  },
  {
   "cell_type": "code",
   "execution_count": 1,
   "id": "a6da6e33-e3dd-45d3-abad-ad48a617b1db",
   "metadata": {},
   "outputs": [],
   "source": [
    "import os, sys\n",
    "from typing import Optional, List, Dict\n",
    "sys.path.append(os.path.join(\"..\"))\n",
    "import hjson\n",
    "import docstring_parser\n",
    "import inspect\n",
    "from llms_wrapper.llms import LLMS, KNOWN_LLM_CONFIG_FIELDS\n",
    "from llms_wrapper.config import update_llm_config\n",
    "from llms_wrapper.utils import dict_except\n"
   ]
  },
  {
   "cell_type": "code",
   "execution_count": 2,
   "id": "7401b8b9-af81-4a1e-9bfa-bef00ec3ea68",
   "metadata": {},
   "outputs": [],
   "source": [
    "config = dict(\n",
    "    llms=[\n",
    "        # OpenAI\n",
    "        # https://platform.openai.com/docs/models\n",
    "        dict(llm=\"openai/gpt-4o\"),\n",
    "        dict(llm=\"openai/gpt-4o-mini\"),\n",
    "        dict(llm=\"openai/o1\"),        # restricted\n",
    "        dict(llm=\"openai/o1-mini\"),   # restricted\n",
    "        dict(llm=\"openai/gpt-4.5-preview\"),   # restricted?\n",
    "        # Google Gemini\n",
    "        # https://ai.google.dev/gemini-api/docs/models/gemini\n",
    "        dict(llm=\"gemini/gemini-2.0-flash-exp\"),\n",
    "        dict(llm=\"gemini/gemini-1.5-flash\"),\n",
    "        dict(llm=\"gemini/gemini-1.5-pro\"),\n",
    "        # Anthropic\n",
    "        # https://docs.anthropic.com/en/docs/about-claude/models\n",
    "        dict(llm=\"anthropic/claude-3-5-sonnet-20240620\"),\n",
    "        dict(llm=\"anthropic/claude-3-opus-20240229\"),\n",
    "        # Mistral\n",
    "        # https://docs.mistral.ai/getting-started/models/models_overview/\n",
    "        dict(llm=\"mistral/mistral-large-latest\"),\n",
    "        # XAI\n",
    "        # dict(llm=\"xai/grok-2\"),     # not mapped by litellm yet?\n",
    "        dict(llm=\"xai/grok-beta\"),\n",
    "        # Groq\n",
    "        # https://console.groq.com/docs/models\n",
    "        dict(llm=\"groq/llama3-70b-8192\"),\n",
    "        dict(llm=\"groq/llama-3.3-70b-versatile\"),\n",
    "        # Deepseek\n",
    "        # https://api-docs.deepseek.com/quick_start/pricing\n",
    "        dict(llm=\"deepseek/deepseek-chat\"),\n",
    "        dict(\n",
    "            llm=\"gemini/somemodel\",\n",
    "            max_input_tokens=100000,\n",
    "            cost_per_prompt_token=0.0002,\n",
    "            temperature=0,\n",
    "        ), \n",
    "    ],\n",
    "    providers = dict(\n",
    "        openai = dict(api_key_env=\"MY_OPENAI_API_KEY\"),\n",
    "        gemini = dict(api_key_env=\"MY_GEMINI_API_KEY\"),\n",
    "        anthropic = dict(api_key_env=\"MY_ANTHROPIC_API_KEY\"),\n",
    "        mistral = dict(api_key_env=\"MY_MISTRAL_API_KEY\"),\n",
    "        xai = dict(api_key_env=\"MY_XAI_API_KEY\"),    \n",
    "        groq = dict(api_key_env=\"MY_GROQ_API_KEY\"),\n",
    "        deepseek = dict(api_key_env=\"MY_DEEPSEEK_API_KEY\"),\n",
    "    )\n",
    ")\n",
    "_ = update_llm_config(config)"
   ]
  },
  {
   "cell_type": "code",
   "execution_count": 3,
   "id": "078083b6-dcf4-4d7e-9950-36ffb058732a",
   "metadata": {},
   "outputs": [],
   "source": [
    "llms = LLMS(\n",
    "    config,  \n",
    "    # use_phoenix=(\"http://0.0.0.0:6006/v1/traces\", \"llms_wrapper_test\")\n",
    ")"
   ]
  },
  {
   "cell_type": "code",
   "execution_count": 4,
   "id": "8a2eb12c-7219-49ee-8f47-e3e87b719795",
   "metadata": {
    "scrolled": true
   },
   "outputs": [
    {
     "data": {
      "text/plain": [
       "['openai/gpt-4o',\n",
       " 'openai/gpt-4o-mini',\n",
       " 'openai/o1',\n",
       " 'openai/o1-mini',\n",
       " 'openai/gpt-4.5-preview',\n",
       " 'gemini/gemini-2.0-flash-exp',\n",
       " 'gemini/gemini-1.5-flash',\n",
       " 'gemini/gemini-1.5-pro',\n",
       " 'anthropic/claude-3-5-sonnet-20240620',\n",
       " 'anthropic/claude-3-opus-20240229',\n",
       " 'mistral/mistral-large-latest',\n",
       " 'xai/grok-beta',\n",
       " 'groq/llama3-70b-8192',\n",
       " 'groq/llama-3.3-70b-versatile',\n",
       " 'deepseek/deepseek-chat',\n",
       " 'gemini/somemodel']"
      ]
     },
     "execution_count": 4,
     "metadata": {},
     "output_type": "execute_result"
    }
   ],
   "source": [
    "llms.list_aliases()"
   ]
  },
  {
   "cell_type": "code",
   "execution_count": 5,
   "id": "f000f97f-a6ae-474c-bf3b-61e3dc5d372b",
   "metadata": {},
   "outputs": [],
   "source": [
    "# llms.known_models()"
   ]
  },
  {
   "cell_type": "code",
   "execution_count": 6,
   "id": "a5026a5a-28d8-4790-991f-6ba1e21d1b85",
   "metadata": {},
   "outputs": [
    {
     "data": {
      "text/plain": [
       "(1e-05, 2.5e-06)"
      ]
     },
     "execution_count": 6,
     "metadata": {},
     "output_type": "execute_result"
    }
   ],
   "source": [
    "llms.cost_per_token(\"openai/gpt-4o\")"
   ]
  },
  {
   "cell_type": "code",
   "execution_count": 7,
   "id": "50489a92-0520-4ae9-ad74-7c5f27c6c25e",
   "metadata": {},
   "outputs": [
    {
     "data": {
      "text/plain": [
       "128000"
      ]
     },
     "execution_count": 7,
     "metadata": {},
     "output_type": "execute_result"
    }
   ],
   "source": [
    "llms.max_input_tokens(\"openai/gpt-4o\")"
   ]
  },
  {
   "cell_type": "code",
   "execution_count": 8,
   "id": "e6011eb7-ffbe-404f-97d2-31430ed0fb31",
   "metadata": {},
   "outputs": [
    {
     "data": {
      "text/plain": [
       "16384"
      ]
     },
     "execution_count": 8,
     "metadata": {},
     "output_type": "execute_result"
    }
   ],
   "source": [
    "llms.max_output_tokens(\"openai/gpt-4o\")"
   ]
  },
  {
   "cell_type": "code",
   "execution_count": 9,
   "id": "5b7cd6bb-8bfb-422b-a534-c4573e045601",
   "metadata": {},
   "outputs": [
    {
     "data": {
      "text/plain": [
       "{'llm': 'gemini/somemodel',\n",
       " 'max_input_tokens': 100000,\n",
       " 'cost_per_prompt_token': 0.0002,\n",
       " 'temperature': 0,\n",
       " 'api_key_env': 'MY_GEMINI_API_KEY',\n",
       " 'alias': 'gemini/somemodel',\n",
       " '_cost': 0,\n",
       " '_last_request_time': 0,\n",
       " '_elapsed_time': 0}"
      ]
     },
     "execution_count": 9,
     "metadata": {},
     "output_type": "execute_result"
    }
   ],
   "source": [
    "llms[\"gemini/somemodel\"].config"
   ]
  },
  {
   "cell_type": "code",
   "execution_count": 10,
   "id": "5e5714ff-6849-4e26-9bdd-d8201a89e6dc",
   "metadata": {},
   "outputs": [
    {
     "data": {
      "text/plain": [
       "(3e-07, 7.5e-08)"
      ]
     },
     "execution_count": 10,
     "metadata": {},
     "output_type": "execute_result"
    }
   ],
   "source": [
    "llms.cost_per_token(\"gemini/gemini-1.5-flash\")"
   ]
  },
  {
   "cell_type": "code",
   "execution_count": 11,
   "id": "99c6e1a2-5fb8-45d0-ac59-8f8639dca7c5",
   "metadata": {},
   "outputs": [
    {
     "data": {
      "text/plain": [
       "(0.0002, None)"
      ]
     },
     "execution_count": 11,
     "metadata": {},
     "output_type": "execute_result"
    }
   ],
   "source": [
    "llms.cost_per_token(\"gemini/somemodel\")"
   ]
  },
  {
   "cell_type": "code",
   "execution_count": 12,
   "id": "9607b8e0-89a1-4238-9fd7-05678fb3b85e",
   "metadata": {},
   "outputs": [
    {
     "data": {
      "text/plain": [
       "100000"
      ]
     },
     "execution_count": 12,
     "metadata": {},
     "output_type": "execute_result"
    }
   ],
   "source": [
    "llms.max_input_tokens(\"gemini/somemodel\")"
   ]
  },
  {
   "cell_type": "code",
   "execution_count": 13,
   "id": "92f28e32-89f8-4a1e-bea5-7d52917383d7",
   "metadata": {},
   "outputs": [],
   "source": [
    "llms.max_output_tokens(\"gemini/somemodel\")"
   ]
  },
  {
   "cell_type": "code",
   "execution_count": 14,
   "id": "3ae2ffc1-96d0-4e24-a6c7-08a0e1a22893",
   "metadata": {},
   "outputs": [],
   "source": [
    "msg1 = llms.make_messages(\"What is a monoid?\")"
   ]
  },
  {
   "cell_type": "code",
   "execution_count": 15,
   "id": "abac6cf6-7175-4cbb-8527-d24c8847a28b",
   "metadata": {},
   "outputs": [
    {
     "data": {
      "text/plain": [
       "13"
      ]
     },
     "execution_count": 15,
     "metadata": {},
     "output_type": "execute_result"
    }
   ],
   "source": [
    "llms.count_tokens(\"openai/gpt-4.5-preview\", msg1)"
   ]
  },
  {
   "cell_type": "code",
   "execution_count": 16,
   "id": "a8e72aa6-c1be-4631-86cf-3b3f820c6059",
   "metadata": {},
   "outputs": [],
   "source": [
    "llm = llms[\"openai/gpt-4o\"]"
   ]
  },
  {
   "cell_type": "code",
   "execution_count": 17,
   "id": "452600c9-ee93-48e3-bbf7-c3ab5eb51ade",
   "metadata": {},
   "outputs": [
    {
     "data": {
      "text/plain": [
       "13"
      ]
     },
     "execution_count": 17,
     "metadata": {},
     "output_type": "execute_result"
    }
   ],
   "source": [
    "llm.count_tokens(msg1)"
   ]
  },
  {
   "cell_type": "code",
   "execution_count": 18,
   "id": "5a9a8a26-78a6-40ff-b104-24028b1c424c",
   "metadata": {},
   "outputs": [
    {
     "data": {
      "text/plain": [
       "13"
      ]
     },
     "execution_count": 18,
     "metadata": {},
     "output_type": "execute_result"
    }
   ],
   "source": [
    "llm.count_tokens(\"What is a monoid?\")"
   ]
  },
  {
   "cell_type": "code",
   "execution_count": 15,
   "id": "f33605e6-4a15-4bef-b236-5611aeba5d71",
   "metadata": {},
   "outputs": [
    {
     "data": {
      "text/plain": [
       "{'elapsed_time': 39.25307822227478,\n",
       " 'response': ModelResponse(id='chatcmpl-BFI6FbX7BtguunCLPpOR1KqsexGuk', created=1742984195, model='gpt-4.5-preview-2025-02-27', object='chat.completion', system_fingerprint=None, choices=[Choices(finish_reason='stop', index=0, message=Message(content='A **monoid** is a fundamental algebraic structure in mathematics. Formally, it\\'s defined as a set equipped with an associative binary operation and an identity element.\\n\\nSpecifically, a monoid is a triple \\\\((M, \\\\cdot, e)\\\\), where:\\n\\n1. **\\\\(M\\\\)** is a set.\\n2. **\\\\(\\\\cdot\\\\)** is a binary operation: \\n   \\\\[\\n   \\\\cdot : M \\\\times M \\\\rightarrow M\\n   \\\\]\\n   satisfying the associativity property:\\n   \\\\[\\n   (a \\\\cdot b) \\\\cdot c = a \\\\cdot (b \\\\cdot c) \\\\quad \\\\text{for every } a, b, c \\\\in M.\\n   \\\\]\\n3. **\\\\(e\\\\)** is a special element in \\\\(M\\\\), called the identity element, such that for every element \\\\(a\\\\) in \\\\(M\\\\):\\n   \\\\[\\n   e \\\\cdot a = a \\\\cdot e = a.\\n   \\\\]\\n\\n**Examples of monoids:**\\n\\n- **Natural numbers or integers** under addition with identity element 0.\\n- **Natural numbers or positive reals** under multiplication with identity element 1.\\n- **Concatenation** of strings with empty string \"\" as identity.\\n- **Lists** with concatenation as the operation and the empty list as identity.\\n\\n**Relation to other algebraic structures:**\\n\\n- A **group** is a monoid in which every element has an inverse.\\n- A **semigroup** is a structure similar to a monoid but does not require an identity element.\\n\\nMonoids arise frequently in algebra, theoretical computer science, category theory, and functional programming, providing a simple yet versatile abstraction for combining or composing entities.', role='assistant', tool_calls=None, function_call=None, provider_specific_fields={'refusal': None, 'annotations': []}))], usage=Usage(completion_tokens=360, prompt_tokens=13, total_tokens=373, completion_tokens_details=CompletionTokensDetailsWrapper(accepted_prediction_tokens=0, audio_tokens=0, reasoning_tokens=0, rejected_prediction_tokens=0, text_tokens=None), prompt_tokens_details=PromptTokensDetailsWrapper(audio_tokens=0, cached_tokens=0, text_tokens=None, image_tokens=None)), service_tier='default'),\n",
       " 'kwargs': {},\n",
       " 'cost': 0.05497499999999999,\n",
       " 'n_completion_tokens': 360,\n",
       " 'n_prompt_tokens': 13,\n",
       " 'n_total_tokens': 373,\n",
       " 'finish_reason': 'stop',\n",
       " 'answer': 'A **monoid** is a fundamental algebraic structure in mathematics. Formally, it\\'s defined as a set equipped with an associative binary operation and an identity element.\\n\\nSpecifically, a monoid is a triple \\\\((M, \\\\cdot, e)\\\\), where:\\n\\n1. **\\\\(M\\\\)** is a set.\\n2. **\\\\(\\\\cdot\\\\)** is a binary operation: \\n   \\\\[\\n   \\\\cdot : M \\\\times M \\\\rightarrow M\\n   \\\\]\\n   satisfying the associativity property:\\n   \\\\[\\n   (a \\\\cdot b) \\\\cdot c = a \\\\cdot (b \\\\cdot c) \\\\quad \\\\text{for every } a, b, c \\\\in M.\\n   \\\\]\\n3. **\\\\(e\\\\)** is a special element in \\\\(M\\\\), called the identity element, such that for every element \\\\(a\\\\) in \\\\(M\\\\):\\n   \\\\[\\n   e \\\\cdot a = a \\\\cdot e = a.\\n   \\\\]\\n\\n**Examples of monoids:**\\n\\n- **Natural numbers or integers** under addition with identity element 0.\\n- **Natural numbers or positive reals** under multiplication with identity element 1.\\n- **Concatenation** of strings with empty string \"\" as identity.\\n- **Lists** with concatenation as the operation and the empty list as identity.\\n\\n**Relation to other algebraic structures:**\\n\\n- A **group** is a monoid in which every element has an inverse.\\n- A **semigroup** is a structure similar to a monoid but does not require an identity element.\\n\\nMonoids arise frequently in algebra, theoretical computer science, category theory, and functional programming, providing a simple yet versatile abstraction for combining or composing entities.',\n",
       " 'error': '',\n",
       " 'ok': True}"
      ]
     },
     "execution_count": 15,
     "metadata": {},
     "output_type": "execute_result"
    }
   ],
   "source": [
    "ret1 = llms.query(llmalias=\"openai/gpt-4.5-preview\", return_cost=True, return_response=True, messages=msg1)\n",
    "ret1"
   ]
  },
  {
   "cell_type": "code",
   "execution_count": 16,
   "id": "7439591a-2b20-4775-8997-d2c975129a8c",
   "metadata": {},
   "outputs": [],
   "source": [
    "msg2 = llms.make_messages(\"What is a monoid? Return a JSON dict that has the single key 'answer' that contains your answer.\")"
   ]
  },
  {
   "cell_type": "code",
   "execution_count": 17,
   "id": "35eaced1-5c4c-4afc-b7c8-b28d6e33b059",
   "metadata": {},
   "outputs": [
    {
     "data": {
      "text/plain": [
       "{'elapsed_time': 3.4803478717803955,\n",
       " 'response': ModelResponse(id='chatcmpl-B84wrhOs6ttfi69R2Aw67GVoGWY2O', created=1741265345, model='gpt-4o-2024-08-06', object='chat.completion', system_fingerprint='fp_eb9dce56a8', choices=[Choices(finish_reason='stop', index=0, message=Message(content='{\\n  \"answer\": \"In mathematics, a monoid is an algebraic structure with a single associative binary operation and an identity element. A set M equipped with a binary operation ⋅ : M × M → M forms a monoid if it satisfies the following conditions: 1) Associativity: For all a, b, c in M, (a ⋅ b) ⋅ c = a ⋅ (b ⋅ c). 2) Identity element: There exists an element e in M such that for every element a in M, e ⋅ a = a ⋅ e = a. Monoids are a central concept in abstract algebra and are used in various fields, including computer science, for modeling computations and processes.\"\\n}', role='assistant', tool_calls=None, function_call=None, provider_specific_fields={'refusal': None}))], usage=Usage(completion_tokens=152, prompt_tokens=30, total_tokens=182, completion_tokens_details=CompletionTokensDetailsWrapper(accepted_prediction_tokens=0, audio_tokens=0, reasoning_tokens=0, rejected_prediction_tokens=0, text_tokens=None), prompt_tokens_details=PromptTokensDetailsWrapper(audio_tokens=0, cached_tokens=0, text_tokens=None, image_tokens=None)), service_tier='default'),\n",
       " 'kwargs': {'response_format': {'type': 'json_object'}},\n",
       " 'cost': 0.001595,\n",
       " 'n_completion_tokens': 152,\n",
       " 'n_prompt_tokens': 30,\n",
       " 'n_total_tokens': 182,\n",
       " 'finish_reason': 'stop',\n",
       " 'answer': '{\\n  \"answer\": \"In mathematics, a monoid is an algebraic structure with a single associative binary operation and an identity element. A set M equipped with a binary operation ⋅ : M × M → M forms a monoid if it satisfies the following conditions: 1) Associativity: For all a, b, c in M, (a ⋅ b) ⋅ c = a ⋅ (b ⋅ c). 2) Identity element: There exists an element e in M such that for every element a in M, e ⋅ a = a ⋅ e = a. Monoids are a central concept in abstract algebra and are used in various fields, including computer science, for modeling computations and processes.\"\\n}',\n",
       " 'error': '',\n",
       " 'ok': True}"
      ]
     },
     "execution_count": 17,
     "metadata": {},
     "output_type": "execute_result"
    }
   ],
   "source": [
    "ret2=llms.query(\n",
    "    llmalias=\"openai/gpt-4o\", \n",
    "    return_response=True,\n",
    "    return_cost=True,\n",
    "    messages=msg2, response_format=dict(type=\"json_object\"))\n",
    "ret2"
   ]
  },
  {
   "cell_type": "code",
   "execution_count": 18,
   "id": "ae374f33-c375-46fd-a645-b7ca711d6ea6",
   "metadata": {},
   "outputs": [],
   "source": [
    "# ret2[\"response\"].response_ms"
   ]
  },
  {
   "cell_type": "code",
   "execution_count": 19,
   "id": "4c7f6986-347b-4e50-94bb-31272e798130",
   "metadata": {},
   "outputs": [],
   "source": [
    "def func1(a: str, b: int, c: int = 1, d: Optional[List[Dict]] = None) -> str: \n",
    "    \"\"\"\n",
    "    This is the short description.\n",
    "\n",
    "    Here we may have a longer description. This one can go over many lines\n",
    "\n",
    "    :param str a: this is parameter a\n",
    "    :param b: this is parameter b\n",
    "    :type b: int\n",
    "    :param c: some parameter c    \n",
    "    :param d: some parameter d\n",
    "    :return: what it returns\n",
    "    :rtype: str\n",
    "    \"\"\"\n",
    "    return \"x\"\n"
   ]
  },
  {
   "cell_type": "code",
   "execution_count": 20,
   "id": "b49ca6c6-e5ef-4a92-81b2-307c4c01143a",
   "metadata": {},
   "outputs": [
    {
     "data": {
      "text/plain": [
       "[{'type': 'function',\n",
       "  'function': {'name': 'func1',\n",
       "   'description': 'This is the short description.\\n\\nHere we may have a longer description. This one can go over many lines',\n",
       "   'parameters': {'type': 'object',\n",
       "    'properties': {'a': {'type': 'str', 'description': 'this is parameter a'},\n",
       "     'b': {'type': 'int', 'description': 'this is parameter b'},\n",
       "     'c': {'type': None, 'description': 'some parameter c'},\n",
       "     'd': {'type': None, 'description': 'some parameter d'}},\n",
       "    'required': ['a', 'b']}}}]"
      ]
     },
     "execution_count": 20,
     "metadata": {},
     "output_type": "execute_result"
    }
   ],
   "source": [
    "llms.make_tooling(func1)"
   ]
  },
  {
   "cell_type": "code",
   "execution_count": 21,
   "id": "d3fe7a25-4431-4a57-b1ee-5d58e7e7b55e",
   "metadata": {},
   "outputs": [],
   "source": [
    "doc = docstring_parser.parse(func1.__doc__)"
   ]
  },
  {
   "cell_type": "code",
   "execution_count": 22,
   "id": "dd9ecf31-7466-487a-be9e-b8c2ac6ee6ca",
   "metadata": {},
   "outputs": [
    {
     "data": {
      "text/plain": [
       "<docstring_parser.common.DocstringParam at 0x77da8cf82190>"
      ]
     },
     "execution_count": 22,
     "metadata": {},
     "output_type": "execute_result"
    }
   ],
   "source": [
    "doc.params[0]"
   ]
  },
  {
   "cell_type": "code",
   "execution_count": 23,
   "id": "e14a9676-9521-4917-8bd0-85b15098161d",
   "metadata": {},
   "outputs": [
    {
     "data": {
      "text/plain": [
       "4"
      ]
     },
     "execution_count": 23,
     "metadata": {},
     "output_type": "execute_result"
    }
   ],
   "source": [
    "len(doc.params)"
   ]
  },
  {
   "cell_type": "markdown",
   "id": "6dc453f9-dee7-4521-9e6a-77dcfe05c4aa",
   "metadata": {},
   "source": [
    "## Test Retries"
   ]
  },
  {
   "cell_type": "code",
   "execution_count": 24,
   "id": "8c507ee5-3501-48e6-b4e5-754e0b94b613",
   "metadata": {},
   "outputs": [
    {
     "data": {
      "text/plain": [
       "{'llms': [{'llm': 'ollama/llama3',\n",
       "   'api_url': 'http://localhost:11434',\n",
       "   'num_retries': 3}]}"
      ]
     },
     "execution_count": 24,
     "metadata": {},
     "output_type": "execute_result"
    }
   ],
   "source": [
    "config2 = dict(\n",
    "    llms = [\n",
    "        dict(llm=\"ollama/llama3\", api_url=\"http://localhost:11434\", num_retries=3)\n",
    "    ]\n",
    ")\n",
    "config2"
   ]
  },
  {
   "cell_type": "code",
   "execution_count": 25,
   "id": "4cabe5a3-e7b2-40d8-899e-e0c323e5961b",
   "metadata": {},
   "outputs": [
    {
     "name": "stderr",
     "output_type": "stream",
     "text": [
      "Overriding of current TracerProvider is not allowed\n",
      "Attempting to instrument while already instrumented\n"
     ]
    },
    {
     "name": "stdout",
     "output_type": "stream",
     "text": [
      "🔭 OpenTelemetry Tracing Details 🔭\n",
      "|  Phoenix Project: llms_wrapper_test\n",
      "|  Span Processor: SimpleSpanProcessor\n",
      "|  Collector Endpoint: http://0.0.0.0:6006/v1/traces\n",
      "|  Transport: HTTP + protobuf\n",
      "|  Transport Headers: {}\n",
      "|  \n",
      "|  Using a default SpanProcessor. `add_span_processor` will overwrite this default.\n",
      "|  \n",
      "|  `register` has set this TracerProvider as the global OpenTelemetry default.\n",
      "|  To disable this behavior, call `register` with `set_global_tracer_provider=False`.\n",
      "\n"
     ]
    },
    {
     "data": {
      "text/plain": [
       "{'llm': 'ollama/llama3',\n",
       " 'api_url': 'http://localhost:11434',\n",
       " 'num_retries': 3,\n",
       " '_cost': 0,\n",
       " '_elapsed_time': 0}"
      ]
     },
     "execution_count": 25,
     "metadata": {},
     "output_type": "execute_result"
    }
   ],
   "source": [
    "llms2 = LLMS(config2, use_phoenix=(\"http://0.0.0.0:6006/v1/traces\", \"llms_wrapper_test\"))\n",
    "# llms2 = LLMS(config2)\n",
    "llms2[\"ollama/llama3\"].config"
   ]
  },
  {
   "cell_type": "code",
   "execution_count": 26,
   "id": "0daa9377-6c0a-406a-a6be-c4403cf427fa",
   "metadata": {},
   "outputs": [],
   "source": [
    "messages = llms2.make_messages(query=\"What is a monoid\")"
   ]
  },
  {
   "cell_type": "code",
   "execution_count": 27,
   "id": "79719b7e-c4a8-45ed-90ad-26e2d999f7fa",
   "metadata": {},
   "outputs": [
    {
     "data": {
      "text/plain": [
       "{'llm': 'openai/gpt-4o',\n",
       " 'api_key_env': 'MY_OPENAI_API_KEY',\n",
       " 'alias': 'openai/gpt-4o',\n",
       " '_cost': 0.001595,\n",
       " '_elapsed_time': 3.4803478717803955}"
      ]
     },
     "execution_count": 27,
     "metadata": {},
     "output_type": "execute_result"
    }
   ],
   "source": [
    "llms[\"openai/gpt-4o\"].config"
   ]
  },
  {
   "cell_type": "code",
   "execution_count": 28,
   "id": "04f97697-039d-49de-a0ab-e0739b9b24dd",
   "metadata": {},
   "outputs": [
    {
     "data": {
      "text/plain": [
       "{'elapsed_time': 8.568790674209595,\n",
       " 'finish_reason': 'stop',\n",
       " 'answer': 'In abstract algebra, a monoid is a basic algebraic structure that consists of a set equipped with an associative binary operation and an identity element. More formally, a monoid is defined by the following properties:\\n\\n1. **Set and Operation**: There is a set \\\\( M \\\\) and a binary operation \\\\( \\\\cdot : M \\\\times M \\\\to M \\\\) (often denoted by juxtaposition, e.g., \\\\( a \\\\cdot b \\\\) is written as \\\\( ab \\\\)).\\n\\n2. **Associativity**: The binary operation is associative. That is, for all \\\\( a, b, c \\\\in M \\\\), the equation \\\\((ab)c = a(bc)\\\\) holds.\\n\\n3. **Identity Element**: There exists an identity element \\\\( e \\\\in M \\\\) such that for every element \\\\( a \\\\in M \\\\), the equations \\\\( ea = a \\\\) and \\\\( ae = a \\\\) hold. This element is sometimes called the \"unit\" or \"neutral element.\"\\n\\nMonoids are used in various areas of mathematics and computer science, often in contexts where a notion of composition or combination is essential. Examples of monoids include:\\n\\n- The set of natural numbers (\\\\(\\\\mathbb{N}\\\\)) with addition as the operation and 0 as the identity element.\\n- The set of strings over an alphabet with concatenation as the operation and the empty string as the identity element.\\n- The set of square matrices of a given size with matrix multiplication as the operation and the identity matrix as the identity element.\\n\\nUnderstanding monoids is foundational for studying more complex algebraic structures, such as groups, where additional properties like inverses are considered.',\n",
       " 'error': '',\n",
       " 'ok': True}"
      ]
     },
     "execution_count": 28,
     "metadata": {},
     "output_type": "execute_result"
    }
   ],
   "source": [
    "ret = llms.query(\n",
    "    \"openai/gpt-4o\", \n",
    "    messages=messages, \n",
    "    # return_cost=True,\n",
    "    debug=True,\n",
    "    num_retries=0,\n",
    ")\n",
    "ret"
   ]
  },
  {
   "cell_type": "code",
   "execution_count": null,
   "id": "f0fe619a-1b32-4ab8-8d20-cda433570a02",
   "metadata": {},
   "outputs": [],
   "source": []
  },
  {
   "cell_type": "markdown",
   "id": "95213a70-35b0-4d43-853a-be4df4572595",
   "metadata": {},
   "source": [
    "### Test rate limiting\n",
    "\n",
    "See https://github.com/OFAI/python-llms-wrapper/issues/16\n",
    "\n",
    "UPDATE: so it turns out rpm does not do anything, implemented the `min_delay` parameter"
   ]
  },
  {
   "cell_type": "code",
   "execution_count": 6,
   "id": "39841c7b-585e-4112-a96f-00bbc298935d",
   "metadata": {},
   "outputs": [
    {
     "name": "stdout",
     "output_type": "stream",
     "text": [
      "Running for openai/gpt-4o\n",
      "Query What is a field\n",
      "Sending at 14:58:25.64 delay 0.0006449222564697266\n",
      "RESPONSE: The term \"field\" can refer to different concepts depending on the context. Here are a few common mea\n",
      "Query What is a complex number\n",
      "Sending at 14:58:32.48 delay 6.8354573249816895\n",
      "RESPONSE: A complex number is a number that can be expressed in the form \\( a + bi \\), where \\( a \\) and \\( b \n",
      "Query What is a sinus function\n",
      "Sending at 14:59:28.26 delay 55.77737355232239\n"
     ]
    },
    {
     "ename": "KeyboardInterrupt",
     "evalue": "",
     "output_type": "error",
     "traceback": [
      "\u001b[0;31m---------------------------------------------------------------------------\u001b[0m",
      "\u001b[0;31mKeyboardInterrupt\u001b[0m                         Traceback (most recent call last)",
      "Cell \u001b[0;32mIn[6], line 13\u001b[0m\n\u001b[1;32m     11\u001b[0m \u001b[38;5;28mprint\u001b[39m(\u001b[38;5;124m\"\u001b[39m\u001b[38;5;124mSending at\u001b[39m\u001b[38;5;124m\"\u001b[39m, current_time, \u001b[38;5;124m\"\u001b[39m\u001b[38;5;124mdelay\u001b[39m\u001b[38;5;124m\"\u001b[39m, time\u001b[38;5;241m.\u001b[39mtime()\u001b[38;5;241m-\u001b[39mlast_req)\n\u001b[1;32m     12\u001b[0m last_req \u001b[38;5;241m=\u001b[39m time\u001b[38;5;241m.\u001b[39mtime()\n\u001b[0;32m---> 13\u001b[0m ret\u001b[38;5;241m=\u001b[39m\u001b[43mllms\u001b[49m\u001b[38;5;241;43m.\u001b[39;49m\u001b[43mquery\u001b[49m\u001b[43m(\u001b[49m\n\u001b[1;32m     14\u001b[0m \u001b[43m    \u001b[49m\u001b[43mllmname\u001b[49m\u001b[43m,\u001b[49m\u001b[43m \u001b[49m\n\u001b[1;32m     15\u001b[0m \u001b[43m    \u001b[49m\u001b[43mmessages\u001b[49m\u001b[38;5;241;43m=\u001b[39;49m\u001b[43mmessages\u001b[49m\u001b[43m,\u001b[49m\u001b[43m \u001b[49m\n\u001b[1;32m     16\u001b[0m \u001b[43m    \u001b[49m\u001b[43mreturn_cost\u001b[49m\u001b[38;5;241;43m=\u001b[39;49m\u001b[38;5;28;43;01mTrue\u001b[39;49;00m\u001b[43m,\u001b[49m\n\u001b[1;32m     17\u001b[0m \u001b[43m    \u001b[49m\u001b[43mdebug\u001b[49m\u001b[38;5;241;43m=\u001b[39;49m\u001b[38;5;28;43;01mFalse\u001b[39;49;00m\u001b[43m,\u001b[49m\n\u001b[1;32m     18\u001b[0m \u001b[43m    \u001b[49m\u001b[43mmin_delay\u001b[49m\u001b[38;5;241;43m=\u001b[39;49m\u001b[38;5;241;43m60\u001b[39;49m\u001b[43m,\u001b[49m\u001b[43m  \u001b[49m\u001b[38;5;66;43;03m# in seconds\u001b[39;49;00m\n\u001b[1;32m     19\u001b[0m \u001b[43m\u001b[49m\u001b[43m)\u001b[49m\n\u001b[1;32m     20\u001b[0m error \u001b[38;5;241m=\u001b[39m ret[\u001b[38;5;124m\"\u001b[39m\u001b[38;5;124merror\u001b[39m\u001b[38;5;124m\"\u001b[39m]\n\u001b[1;32m     21\u001b[0m cost \u001b[38;5;241m=\u001b[39m ret\u001b[38;5;241m.\u001b[39mget(\u001b[38;5;124m\"\u001b[39m\u001b[38;5;124mcost\u001b[39m\u001b[38;5;124m\"\u001b[39m, \u001b[38;5;241m0.0\u001b[39m)\n",
      "File \u001b[0;32m~/python-llms-wrapper/notebooks/../llms_wrapper/llms.py:470\u001b[0m, in \u001b[0;36mLLMS.query\u001b[0;34m(self, llmalias, messages, tools, return_cost, return_response, debug, litellm_debug, **kwargs)\u001b[0m\n\u001b[1;32m    468\u001b[0m     elapsed \u001b[38;5;241m=\u001b[39m time\u001b[38;5;241m.\u001b[39mtime() \u001b[38;5;241m-\u001b[39m llm[\u001b[38;5;124m\"\u001b[39m\u001b[38;5;124m_last_request_time\u001b[39m\u001b[38;5;124m\"\u001b[39m]\n\u001b[1;32m    469\u001b[0m     \u001b[38;5;28;01mif\u001b[39;00m elapsed \u001b[38;5;241m<\u001b[39m min_delay:\n\u001b[0;32m--> 470\u001b[0m         \u001b[43mtime\u001b[49m\u001b[38;5;241;43m.\u001b[39;49m\u001b[43msleep\u001b[49m\u001b[43m(\u001b[49m\u001b[43mmin_delay\u001b[49m\u001b[43m \u001b[49m\u001b[38;5;241;43m-\u001b[39;49m\u001b[43m \u001b[49m\u001b[43melapsed\u001b[49m\u001b[43m)\u001b[49m\n\u001b[1;32m    471\u001b[0m llm[\u001b[38;5;124m\"\u001b[39m\u001b[38;5;124m_last_request_time\u001b[39m\u001b[38;5;124m\"\u001b[39m] \u001b[38;5;241m=\u001b[39m time\u001b[38;5;241m.\u001b[39mtime()\n\u001b[1;32m    472\u001b[0m \u001b[38;5;28;01mif\u001b[39;00m \u001b[38;5;124m\"\u001b[39m\u001b[38;5;124mmin_delay\u001b[39m\u001b[38;5;124m\"\u001b[39m \u001b[38;5;129;01min\u001b[39;00m completion_kwargs:\n",
      "\u001b[0;31mKeyboardInterrupt\u001b[0m: "
     ]
    }
   ],
   "source": [
    "from datetime import datetime\n",
    "import time\n",
    "qs = [f\"What is a {term}\" for term in [\"field\", \"complex number\", \"sinus function\", \"monoid\"]]\n",
    "last_req = time.time()\n",
    "for llmname in [\"openai/gpt-4o\", \"gemini/gemini-1.5-flash\", \"mistral/mistral-large-latest\", \"\"]:\n",
    "    print(\"Running for\", llmname)\n",
    "    for q in qs:\n",
    "        messages = llms.make_messages(query=q)\n",
    "        current_time = datetime.now().strftime(\"%H:%M:%S.%f\")[:-4]  # Trim to 2 decimal places\n",
    "        print(\"Query\", q)\n",
    "        print(\"Sending at\", current_time, \"delay\", time.time()-last_req)\n",
    "        last_req = time.time()\n",
    "        ret=llms.query(\n",
    "            llmname, \n",
    "            messages=messages, \n",
    "            return_cost=True,\n",
    "            debug=False,\n",
    "            min_delay=60,  # in seconds\n",
    "        )\n",
    "        error = ret[\"error\"]\n",
    "        cost = ret.get(\"cost\", 0.0)\n",
    "        if error:\n",
    "            print(\"ERROR:\", error)\n",
    "        else:\n",
    "            ans = ret.get(\"answer\", \"NO ANSWER!\")\n",
    "            print(\"RESPONSE:\", ans[0:min(100, len(ans))])\n",
    "            \n"
   ]
  },
  {
   "cell_type": "code",
   "execution_count": 7,
   "id": "06240a8b-1f67-4d22-96b6-10f17bd59f20",
   "metadata": {},
   "outputs": [
    {
     "name": "stdout",
     "output_type": "stream",
     "text": [
      "14:20:52.11\n"
     ]
    }
   ],
   "source": [
    "from datetime import datetime\n",
    "\n",
    "current_time = datetime.now().strftime(\"%H:%M:%S.%f\")[:-4]  # Trim to 2 decimal places\n",
    "print(current_time)"
   ]
  },
  {
   "cell_type": "code",
   "execution_count": 13,
   "id": "5e1b8355-a4c1-49ee-afb9-b06fb10a2576",
   "metadata": {},
   "outputs": [
    {
     "data": {
      "text/plain": [
       "{'llm': 'xai/grok-beta',\n",
       " 'api_key_env': 'MY_XAI_API_KEY',\n",
       " 'alias': 'xai/grok-beta',\n",
       " '_cost': 0,\n",
       " '_elapsed_time': 0}"
      ]
     },
     "execution_count": 13,
     "metadata": {},
     "output_type": "execute_result"
    }
   ],
   "source": [
    "llms[\"xai/grok-beta\"].config"
   ]
  },
  {
   "cell_type": "code",
   "execution_count": null,
   "id": "54a4a204-5aec-4fd0-8794-60432490d079",
   "metadata": {},
   "outputs": [],
   "source": []
  }
 ],
 "metadata": {
  "kernelspec": {
   "display_name": "llms_wrapper",
   "language": "python",
   "name": "llms_wrapper"
  },
  "language_info": {
   "codemirror_mode": {
    "name": "ipython",
    "version": 3
   },
   "file_extension": ".py",
   "mimetype": "text/x-python",
   "name": "python",
   "nbconvert_exporter": "python",
   "pygments_lexer": "ipython3",
   "version": "3.11.11"
  }
 },
 "nbformat": 4,
 "nbformat_minor": 5
}
