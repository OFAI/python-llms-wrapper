{
 "cells": [
  {
   "cell_type": "markdown",
   "id": "744579c6-ec0c-4c73-bb38-5c99a566056f",
   "metadata": {},
   "source": [
    "# test-tooling.ipynb\n",
    "\n",
    "Test the API implementation of tooling"
   ]
  },
  {
   "cell_type": "code",
   "execution_count": 1,
   "id": "a6da6e33-e3dd-45d3-abad-ad48a617b1db",
   "metadata": {},
   "outputs": [],
   "source": [
    "import os, sys\n",
    "from typing import Optional, List, Dict\n",
    "sys.path.append(os.path.join(\"..\"))\n",
    "from llms_wrapper.llms import LLMS, toolnames2funcs, get_func_by_name\n",
    "from llms_wrapper.config import update_llm_config"
   ]
  },
  {
   "cell_type": "code",
   "execution_count": 2,
   "id": "7401b8b9-af81-4a1e-9bfa-bef00ec3ea68",
   "metadata": {},
   "outputs": [
    {
     "data": {
      "text/plain": [
       "['openai/gpt-4o',\n",
       " 'openai/gpt-4o-mini',\n",
       " 'gemini/gemini-2.0-flash-exp',\n",
       " 'gemini/gemini-1.5-flash',\n",
       " 'gemini/gemini-1.5-pro',\n",
       " 'anthropic/claude-3-5-sonnet-20240620',\n",
       " 'anthropic/claude-3-opus-20240229',\n",
       " 'mistral/mistral-large-latest',\n",
       " 'xai/grok-beta',\n",
       " 'groq/llama3-70b-8192',\n",
       " 'groq/llama-3.3-70b-versatile',\n",
       " 'deepseek/deepseek-chat']"
      ]
     },
     "execution_count": 2,
     "metadata": {},
     "output_type": "execute_result"
    }
   ],
   "source": [
    "config = dict(\n",
    "    llms=[\n",
    "        # OpenAI\n",
    "        # https://platform.openai.com/docs/models\n",
    "        dict(llm=\"openai/gpt-4o\"),\n",
    "        dict(llm=\"openai/gpt-4o-mini\"),\n",
    "        # dict(llm=\"openai/o1\"),        # restricted\n",
    "        # dict(llm=\"openai/o1-mini\"),   # restricted\n",
    "        # Google Gemini\n",
    "        # https://ai.google.dev/gemini-api/docs/models/gemini\n",
    "        dict(llm=\"gemini/gemini-2.0-flash-exp\"),\n",
    "        dict(llm=\"gemini/gemini-1.5-flash\"),\n",
    "        dict(llm=\"gemini/gemini-1.5-pro\"),\n",
    "        # Anthropic\n",
    "        # https://docs.anthropic.com/en/docs/about-claude/models\n",
    "        dict(llm=\"anthropic/claude-3-5-sonnet-20240620\"),\n",
    "        dict(llm=\"anthropic/claude-3-opus-20240229\"),\n",
    "        # Mistral\n",
    "        # https://docs.mistral.ai/getting-started/models/models_overview/\n",
    "        dict(llm=\"mistral/mistral-large-latest\"),\n",
    "        # XAI\n",
    "        # dict(llm=\"xai/grok-2\"),     # not mapped by litellm yet?\n",
    "        dict(llm=\"xai/grok-beta\"),\n",
    "        # Groq\n",
    "        # https://console.groq.com/docs/models\n",
    "        dict(llm=\"groq/llama3-70b-8192\"),\n",
    "        dict(llm=\"groq/llama-3.3-70b-versatile\"),\n",
    "        # Deepseek\n",
    "        # https://api-docs.deepseek.com/quick_start/pricing\n",
    "        dict(llm=\"deepseek/deepseek-chat\"),\n",
    "    ],\n",
    "    providers = dict(\n",
    "        openai = dict(api_key_env=\"MY_OPENAI_API_KEY\"),\n",
    "        gemini = dict(api_key_env=\"MY_GEMINI_API_KEY\"),\n",
    "        anthropic = dict(api_key_env=\"MY_ANTHROPIC_API_KEY\"),\n",
    "        mistral = dict(api_key_env=\"MY_MISTRAL_API_KEY\"),\n",
    "        xai = dict(api_key_env=\"MY_XAI_API_KEY\"),    \n",
    "        groq = dict(api_key_env=\"MY_GROQ_API_KEY\"),\n",
    "        deepseek = dict(api_key_env=\"MY_DEEPSEEK_API_KEY\"),\n",
    "    )\n",
    ")\n",
    "config = update_llm_config(config)\n",
    "llms = LLMS(config)\n",
    "llms.list_aliases()"
   ]
  },
  {
   "cell_type": "markdown",
   "id": "09dfe4bc",
   "metadata": {},
   "source": [
    "## Define a bunch of fake tools\n",
    "\n",
    "We simulate a situation where tooling is used to query a person/employee database with regard to various criteria. \n",
    "\n",
    "* Persons have an id,  first and last name, department id,  home city, age, date since employed\n",
    "* Departments have a department id, department name and a department head identified by a person id\n",
    "* Projects have an id, a project name and a person id list field of persons working on the project\n",
    "\n",
    "Tools:\n",
    "* get_pers(id=None, first=None, last=None, depid=None, city=None)\n",
    "* get_dep(id=None, headid=None)\n",
    "* get_proj(id=None, personid=None)\n",
    "\n"
   ]
  },
  {
   "cell_type": "code",
   "execution_count": 44,
   "id": "1992aff4",
   "metadata": {},
   "outputs": [],
   "source": [
    "PERSONS = [\n",
    "    dict(id=1, first=\"John\", last=\"Doe\", depid=1, city=\"New York\"),\n",
    "    dict(id=2, first=\"Jane\", last=\"Smith\", depid=2, city=\"Los Angeles\"),\n",
    "    dict(id=3, first=\"Alice\", last=\"Johnson\", depid=1, city=\"Chicago\"),\n",
    "    dict(id=4, first=\"Bob\", last=\"Brown\", depid=3, city=\"Houston\"),\n",
    "    dict(id=5, first=\"Charlie\", last=\"Davis\", depid=2, city=\"Phoenix\"),\n",
    "    dict(id=6, first=\"David\", last=\"Wilson\", depid=3, city=\"Philadelphia\"),\n",
    "    dict(id=7, first=\"Jane\", last=\"Garcia\", depid=1, city=\"San Antonio\"),\n",
    "    dict(id=8, first=\"Frank\", last=\"Martinez\", depid=2, city=\"San Diego\"),\n",
    "    dict(id=9, first=\"Grace\", last=\"Lopez\", depid=3, city=\"Houston\"),\n",
    "    dict(id=10, first=\"Heidi\", last=\"Gonzalez\", depid=1, city=\"San Jose\"),\n",
    "    dict(id=11, first=\"Ivan\", last=\"Hernandez\", depid=2, city=\"Austin\"),\n",
    "    dict(id=12, first=\"Jane\", last=\"Clark\", depid=3, city=\"Jacksonville\"),\n",
    "    dict(id=13, first=\"Kevin\", last=\"Rodriguez\", depid=1, city=\"Fort Worth\"),\n",
    "    dict(id=14, first=\"Laura\", last=\"Lewis\", depid=2, city=\"Columbus\"),\n",
    "]\n",
    "\n",
    "DEPARTMENTS = [\n",
    "    dict(id=1, name=\"HR\", headid=1),\n",
    "    dict(id=2, name=\"Engineering\", headid=5),\n",
    "    dict(id=3, name=\"Marketing\", headid=3),\n",
    "]\n",
    "\n",
    "\n",
    "PROJECTS = [\n",
    "    dict(id=1, name=\"Project A\", people=[1, 2]),\n",
    "    dict(id=2, name=\"Project B\", people=[3, 4, 5]),\n",
    "    dict(id=3, name=\"Project C\", people=[5, 6, 7, 8]),\n",
    "    dict(id=4, name=\"Project D\", people=[1, 6, 5, 9, 10]),\n",
    "    dict(id=5, name=\"Project E\", people=[2, 3, 4, 11]),\n",
    "]\n",
    " \n",
    "def get_pers(id: Optional[int] = None, first: Optional[str] = None, last: Optional[str] = None, depid: Optional[int] = None, city: Optional[str] = None) -> List[Dict[str, any]]:\n",
    "    \"\"\"\n",
    "    Get a list of person objects matching all the given criteria. \n",
    "    \n",
    "    If no criteria is given, return all person objects. If no person matches the criteria, return an empty list.\n",
    "    Note that if the ID is given, all other criteria are ignored.\n",
    "\n",
    "    :param id: The ID of the person to return. Since the ID is unique, this will return a list with one element or an empty list.\n",
    "    :param first: The first name of the person or persons to return.\n",
    "    :param last: The last name of the person or persons to return.\n",
    "    :param depid: The department ID of the person or persons to return.\n",
    "    :param city: The city of the person or persons to return.\n",
    "    :return: A list of person objects matching the given criteria.\n",
    "    :rtype: List[Dict[str, any]]\n",
    "    \"\"\"\n",
    "    if id is None and first is None and last is None and depid is None and city is None:\n",
    "        return PERSONS\n",
    "    if id is not None:\n",
    "        return [p for p in PERSONS if p[\"id\"] == id]\n",
    "    retset = set()  # collect the ids of the persons that match the criteria\n",
    "    if first is not None:        \n",
    "        retset.update(p[\"id\"] for p in PERSONS if p[\"first\"] == first)\n",
    "    if last is not None:\n",
    "        retset.update(p[\"id\"] for p in PERSONS if p[\"last\"] == last)\n",
    "    if depid is not None:\n",
    "        retset.update(p[\"id\"] for p in PERSONS if p[\"depid\"] == depid)\n",
    "    if city is not None:\n",
    "        retset.update(p[\"id\"] for p in PERSONS if p[\"city\"] == city)\n",
    "    # now return the persons that match the ids in the retset        \n",
    "    return list(p for p in PERSONS if p[\"id\"] in retset)\n",
    "\n",
    "def get_dep(id: Optional[int] = None, name: Optional[str] = None, headid: Optional[int] = None) -> List[Dict[str, any]]:\n",
    "    \"\"\"\n",
    "    Get a list of department objects matching all the given criteria. \n",
    "    \n",
    "    If no criteria is given, return all department objects. If no department matches the criteria, return an empty list.\n",
    "    Note that if the ID is given, all other criteria are ignored.\n",
    "\n",
    "    :param id: The ID of the department to return. Since the ID is unique, this will return a list with one element or an empty list.\n",
    "    :param name: The name of the department to return.\n",
    "    :return: A list of department objects matching the given criteria.\n",
    "    :rtype: List[Dict[str, any]]\n",
    "    \"\"\"\n",
    "    if id is None and name is None and headid is None:\n",
    "        return DEPARTMENTS\n",
    "    if id is not None:\n",
    "        return [d for d in DEPARTMENTS if d[\"id\"] == id]\n",
    "    retset = set()\n",
    "    if name is not None:\n",
    "        retset.update(d[\"id\"] for d in DEPARTMENTS if d[\"name\"] == name)\n",
    "    if headid is not None:\n",
    "        retset.update(d[\"id\"] for d in DEPARTMENTS if d[\"headid\"] == headid)\n",
    "    return list(d for d in DEPARTMENTS if d[\"id\"] in retset)\n",
    "\n",
    "def get_proj(id: Optional[int] = None, name: Optional[str] = None, people: Optional[List[int]] = None) -> List[Dict[str, any]]:\n",
    "    \"\"\"\n",
    "    Get a list of project objects matching all the given criteria.\n",
    "    If no criteria is given, return all project objects. If no project matches the criteria, return an empty list.\n",
    "    Note that if the ID is given, all other criteria are ignored.\n",
    "    :param id: The ID of the project to return. Since the ID is unique, this will return a list with one element or an empty list.\n",
    "    :param name: The name of the project to return.\n",
    "    :param people: A list of people, return all projects where all the people in this list are involved.\n",
    "    :return: A list of project objects matching the given criteria.\n",
    "    :rtype: List[Dict[str, any]]\n",
    "    \"\"\"\n",
    "    if id is None and name is None and people is None:\n",
    "        return PROJECTS\n",
    "    if id is not None:\n",
    "        return [p for p in PROJECTS if p[\"id\"] == id]\n",
    "    retset = set()\n",
    "    if name is not None:\n",
    "        retset.update(p[\"id\"] for p in PROJECTS if p[\"name\"] == name)\n",
    "    if people is not None:\n",
    "        # for each project check if the people ids in the people parameter list are all in the project's people list\n",
    "        for p in PROJECTS:\n",
    "            if all(pid in p[\"people\"] for pid in people):\n",
    "                retset.add(p[\"id\"])\n",
    "    return list(p for p in PROJECTS if p[\"id\"] in retset)"
   ]
  },
  {
   "cell_type": "code",
   "execution_count": 43,
   "id": "42cb75b6",
   "metadata": {},
   "outputs": [
    {
     "data": {
      "text/plain": [
       "[]"
      ]
     },
     "execution_count": 43,
     "metadata": {},
     "output_type": "execute_result"
    }
   ],
   "source": [
    "get_proj()"
   ]
  },
  {
   "cell_type": "code",
   "execution_count": null,
   "id": "f3a44729",
   "metadata": {},
   "outputs": [],
   "source": []
  },
  {
   "cell_type": "code",
   "execution_count": 40,
   "id": "59320892",
   "metadata": {},
   "outputs": [],
   "source": [
    "QUERIES = [\n",
    "    \"What is the name of the department John Doe works in?\",\n",
    "    \"What is the name of the department that has Alice Johnson as head?\",\n",
    "    \"Who is the head of the department in which Jane Smith works?\",\n",
    "    \"In which department does Jane work?\", \n",
    "    \"Which projects have John Doe as a member?\",\n",
    "    \"Which projects have more than 2 people?\",\n",
    "    \"Which persons work in three projects?\",\n",
    "    \"Which persons work both in the same department and come from the same city?\",\n",
    "    \"Which persons work both on the same project and come from the same city?\",\n",
    "]"
   ]
  },
  {
   "cell_type": "markdown",
   "id": "8365cc3a",
   "metadata": {},
   "source": [
    "## Tooling setup "
   ]
  },
  {
   "cell_type": "code",
   "execution_count": 5,
   "id": "33420075",
   "metadata": {},
   "outputs": [
    {
     "data": {
      "text/plain": [
       "[{'type': 'function',\n",
       "  'function': {'name': 'get_dep',\n",
       "   'description': \"Get a list of department objects matching all the given criteria. \\n\\nIf no criteria is given, return all department objects. If no department matches the criteria, return an empty list.\\nNote that if the ID is given, all other criteria are ignored.\\n\\nThe function returns: A list of department objects matching the given criteria.\\n\\nThe return type is: {'type': 'array', 'items': {'type': 'object', 'additionalProperties': {'type': 'string'}}}\",\n",
       "   'parameters': {'type': 'object',\n",
       "    'properties': {'id': {'anyOf': [{'type': 'integer'}, {'type': 'null'}],\n",
       "      'description': 'The ID of the department to return. Since the ID is unique, this will return a list with one element or an empty list.',\n",
       "      'default': None},\n",
       "     'name': {'anyOf': [{'type': 'string'}, {'type': 'null'}],\n",
       "      'description': 'The name of the department to return.',\n",
       "      'default': None},\n",
       "     'headid': {'anyOf': [{'type': 'integer'}, {'type': 'null'}],\n",
       "      'description': '',\n",
       "      'default': None}},\n",
       "    'required': []}}},\n",
       " {'type': 'function',\n",
       "  'function': {'name': 'get_pers',\n",
       "   'description': \"Get a list of person objects matching all the given criteria. \\n\\nIf no criteria is given, return all person objects. If no person matches the criteria, return an empty list.\\nNote that if the ID is given, all other criteria are ignored.\\n\\nThe function returns: A list of person objects matching the given criteria.\\n\\nThe return type is: {'type': 'array', 'items': {'type': 'object', 'additionalProperties': {'type': 'string'}}}\",\n",
       "   'parameters': {'type': 'object',\n",
       "    'properties': {'id': {'anyOf': [{'type': 'integer'}, {'type': 'null'}],\n",
       "      'description': 'The ID of the person to return. Since the ID is unique, this will return a list with one element or an empty list.',\n",
       "      'default': None},\n",
       "     'first': {'anyOf': [{'type': 'string'}, {'type': 'null'}],\n",
       "      'description': 'The first name of the person or persons to return.',\n",
       "      'default': None},\n",
       "     'last': {'anyOf': [{'type': 'string'}, {'type': 'null'}],\n",
       "      'description': 'The last name of the person or persons to return.',\n",
       "      'default': None},\n",
       "     'depid': {'anyOf': [{'type': 'integer'}, {'type': 'null'}],\n",
       "      'description': 'The department ID of the person or persons to return.',\n",
       "      'default': None},\n",
       "     'city': {'anyOf': [{'type': 'string'}, {'type': 'null'}],\n",
       "      'description': 'The city of the person or persons to return.',\n",
       "      'default': None}},\n",
       "    'required': []}}},\n",
       " {'type': 'function',\n",
       "  'function': {'name': 'get_proj',\n",
       "   'description': \"Get a list of project objects matching all the given criteria.\\n\\nIf no criteria is given, return all project objects. If no project matches the criteria, return an empty list.\\nNote that if the ID is given, all other criteria are ignored.\\n\\nThe function returns: A list of project objects matching the given criteria.\\n\\nThe return type is: {'type': 'array', 'items': {'type': 'object', 'additionalProperties': {'type': 'string'}}}\",\n",
       "   'parameters': {'type': 'object',\n",
       "    'properties': {'id': {'anyOf': [{'type': 'integer'}, {'type': 'null'}],\n",
       "      'description': 'The ID of the project to return. Since the ID is unique, this will return a list with one element or an empty list.',\n",
       "      'default': None},\n",
       "     'name': {'anyOf': [{'type': 'string'}, {'type': 'null'}],\n",
       "      'description': 'The name of the project to return.',\n",
       "      'default': None},\n",
       "     'people': {'anyOf': [{'type': 'array', 'items': {'type': 'integer'}},\n",
       "       {'type': 'null'}],\n",
       "      'description': 'A list of people, return all projects where all the people in this list are involved.',\n",
       "      'default': None}},\n",
       "    'required': []}}}]"
      ]
     },
     "execution_count": 5,
     "metadata": {},
     "output_type": "execute_result"
    }
   ],
   "source": [
    "tooling = LLMS.make_tooling([get_dep, get_pers, get_proj])\n",
    "tooling"
   ]
  },
  {
   "cell_type": "code",
   "execution_count": 20,
   "id": "082bfc5e",
   "metadata": {},
   "outputs": [],
   "source": [
    "import warnings\n",
    "from IPython.display import display, Markdown\n",
    "warnings.filterwarnings(\"ignore\", category=UserWarning, module=\"pydantic\")\n",
    "\n",
    "def answer_query(query, llm=\"openai/gpt-4o\", debug=False, show=True):\n",
    "    # NOTE if show is True, the query and answer are shown in the notebook and nothing is returned, otherwise\n",
    "    # the complete return value is returned\n",
    "    md = \"\"\n",
    "    if show:\n",
    "        md += f\"Query: {query}\\n\\n\"\n",
    "    msgs = LLMS.make_messages(query)\n",
    "    ret = llms.query(llm, msgs, tools=tooling, return_cost=True, debug=debug)\n",
    "    cost = ret[\"cost\"]\n",
    "    if show:\n",
    "        if ret[\"error\"]:\n",
    "            md += f\"**!!!Error**: {ret['error']}\\n\\nCost: {cost}\"\n",
    "        else:\n",
    "            md += f\"Answer: {ret['answer']}\\n\\nCost: {cost}\"\n",
    "        display(Markdown(md))\n",
    "    else:\n",
    "        return ret\n",
    "    \n",
    "    "
   ]
  },
  {
   "cell_type": "code",
   "execution_count": 22,
   "id": "458c9ca7",
   "metadata": {},
   "outputs": [
    {
     "data": {
      "text/markdown": [
       "Query: What is the name of the department John Doe works in?\n",
       "\n",
       "Answer: John Doe works in the HR department.\n",
       "\n",
       "Cost: 0.005665"
      ],
      "text/plain": [
       "<IPython.core.display.Markdown object>"
      ]
     },
     "metadata": {},
     "output_type": "display_data"
    }
   ],
   "source": [
    "answer_query(QUERIES[0], llm=\"openai/gpt-4o\", debug=False, show=True)"
   ]
  },
  {
   "cell_type": "code",
   "execution_count": 21,
   "id": "b045f3b8",
   "metadata": {},
   "outputs": [
    {
     "data": {
      "text/markdown": [
       "Query: What is the name of the department that has Alice Johnson as head?\n",
       "\n",
       "Answer: The department that has Alice Johnson as head is the Marketing department.\n",
       "\n",
       "Cost: 0.0057375"
      ],
      "text/plain": [
       "<IPython.core.display.Markdown object>"
      ]
     },
     "metadata": {},
     "output_type": "display_data"
    }
   ],
   "source": [
    "answer_query(QUERIES[1], llm=\"openai/gpt-4o\", debug=False, show=True)"
   ]
  },
  {
   "cell_type": "code",
   "execution_count": 23,
   "id": "df99a57b",
   "metadata": {},
   "outputs": [
    {
     "data": {
      "text/markdown": [
       "Query: Who is the head of the department in which Jane Smith works?\n",
       "\n",
       "Answer: The head of the department in which Jane Smith works is Charlie Davis.\n",
       "\n",
       "Cost: 0.0083875"
      ],
      "text/plain": [
       "<IPython.core.display.Markdown object>"
      ]
     },
     "metadata": {},
     "output_type": "display_data"
    }
   ],
   "source": [
    "answer_query(QUERIES[2], llm=\"openai/gpt-4o\", debug=False, show=True)"
   ]
  },
  {
   "cell_type": "code",
   "execution_count": 24,
   "id": "db5ea20b",
   "metadata": {},
   "outputs": [
    {
     "data": {
      "text/markdown": [
       "Query: In which department does Jane work?\n",
       "\n",
       "Answer: There are multiple people named Jane:\n",
       "\n",
       "1. Jane Smith works in the Engineering department.\n",
       "2. Jane Garcia works in the HR department.\n",
       "3. Jane Clark works in the Marketing department.\n",
       "\n",
       "Cost: 0.006835000000000001"
      ],
      "text/plain": [
       "<IPython.core.display.Markdown object>"
      ]
     },
     "metadata": {},
     "output_type": "display_data"
    }
   ],
   "source": [
    "answer_query(QUERIES[3], llm=\"openai/gpt-4o\", debug=False, show=True)"
   ]
  },
  {
   "cell_type": "code",
   "execution_count": 41,
   "id": "ee7955b1",
   "metadata": {},
   "outputs": [
    {
     "data": {
      "text/markdown": [
       "Query: Which projects have John Doe as a member?\n",
       "\n",
       "Answer: John Doe is a member of the following projects:\n",
       "\n",
       "1. Project A\n",
       "2. Project D\n",
       "\n",
       "Cost: 0.005840000000000001"
      ],
      "text/plain": [
       "<IPython.core.display.Markdown object>"
      ]
     },
     "metadata": {},
     "output_type": "display_data"
    }
   ],
   "source": [
    "answer_query(QUERIES[4], llm=\"openai/gpt-4o\", debug=False, show=True)"
   ]
  },
  {
   "cell_type": "code",
   "execution_count": 45,
   "id": "9fbb8d19",
   "metadata": {},
   "outputs": [
    {
     "data": {
      "text/markdown": [
       "Query: Which projects have more than 2 people?\n",
       "\n",
       "Answer: The following projects have more than 2 people:\n",
       "\n",
       "1. **Project B** - 3 people\n",
       "2. **Project C** - 4 people\n",
       "3. **Project D** - 5 people\n",
       "4. **Project E** - 4 people\n",
       "\n",
       "Cost: 0.00423"
      ],
      "text/plain": [
       "<IPython.core.display.Markdown object>"
      ]
     },
     "metadata": {},
     "output_type": "display_data"
    }
   ],
   "source": [
    "answer_query(QUERIES[5], llm=\"openai/gpt-4o\", debug=False, show=True)"
   ]
  },
  {
   "cell_type": "code",
   "execution_count": 46,
   "id": "8a7b68f4",
   "metadata": {},
   "outputs": [
    {
     "data": {
      "text/markdown": [
       "Query: Which persons work in three projects?\n",
       "\n",
       "Answer: The persons who work in three projects are:\n",
       "\n",
       "1. **Charlie Davis**\n",
       "   - Projects: Project B, Project C, Project D\n",
       "   - City: Phoenix\n",
       "\n",
       "2. **David Wilson**\n",
       "   - Projects: Project C, Project D\n",
       "   - City: Philadelphia\n",
       "\n",
       "3. **John Doe**\n",
       "   - Projects: Project A, Project D\n",
       "   - City: New York\n",
       "\n",
       "4. **Jane Smith**\n",
       "   - Projects: Project A, Project E\n",
       "   - City: Los Angeles\n",
       "\n",
       "These individuals are involved in multiple projects, with Charlie Davis being a part of exactly three different projects and holding the condition true as requested.\n",
       "\n",
       "Cost: 0.0082675"
      ],
      "text/plain": [
       "<IPython.core.display.Markdown object>"
      ]
     },
     "metadata": {},
     "output_type": "display_data"
    }
   ],
   "source": [
    "answer_query(QUERIES[6], llm=\"openai/gpt-4o\", debug=False, show=True)"
   ]
  },
  {
   "cell_type": "code",
   "execution_count": 47,
   "id": "734af744",
   "metadata": {},
   "outputs": [
    {
     "data": {
      "text/markdown": [
       "Query: Which persons work both in the same department and come from the same city?\n",
       "\n",
       "Answer: Based on the available data, the following persons work in the same department and come from the same city:\n",
       "\n",
       "- Bob Brown and Grace Lopez both work in Department 3 and are from Houston.\n",
       "\n",
       "Cost: 0.004922500000000001"
      ],
      "text/plain": [
       "<IPython.core.display.Markdown object>"
      ]
     },
     "metadata": {},
     "output_type": "display_data"
    }
   ],
   "source": [
    "answer_query(QUERIES[7], llm=\"openai/gpt-4o\", debug=False, show=True)"
   ]
  },
  {
   "cell_type": "code",
   "execution_count": 48,
   "id": "aa4853d4",
   "metadata": {},
   "outputs": [
    {
     "data": {
      "text/markdown": [
       "Query: Which persons work both on the same project and come from the same city?\n",
       "\n",
       "Answer: Here are the persons who work on the same project and come from the same city:\n",
       "\n",
       "1. **Project A:** \n",
       "   - John Doe from New York\n",
       "   - Jane Smith from Los Angeles\n",
       "\n",
       "2. **Project B:** \n",
       "   - Alice Johnson from Chicago\n",
       "   - Bob Brown from Houston\n",
       "\n",
       "3. **Project C:** \n",
       "   - Charlie Davis from Phoenix\n",
       "   - David Wilson from Philadelphia\n",
       "\n",
       "4. **Project D:**\n",
       "   - Grace Lopez from Houston\n",
       "   - Heidi Gonzalez from San Jose\n",
       "\n",
       "5. **Project E:** \n",
       "   - Each person from a different city\n",
       "\n",
       "It seems no persons on the same project are from the same city based on the given data.\n",
       "\n",
       "Cost: 0.010327500000000002"
      ],
      "text/plain": [
       "<IPython.core.display.Markdown object>"
      ]
     },
     "metadata": {},
     "output_type": "display_data"
    }
   ],
   "source": [
    "answer_query(QUERIES[8], llm=\"openai/gpt-4o\", debug=False, show=True)"
   ]
  },
  {
   "cell_type": "code",
   "execution_count": null,
   "id": "e0b36066",
   "metadata": {},
   "outputs": [],
   "source": []
  }
 ],
 "metadata": {
  "kernelspec": {
   "display_name": "llms_wrapper",
   "language": "python",
   "name": "python3"
  },
  "language_info": {
   "codemirror_mode": {
    "name": "ipython",
    "version": 3
   },
   "file_extension": ".py",
   "mimetype": "text/x-python",
   "name": "python",
   "nbconvert_exporter": "python",
   "pygments_lexer": "ipython3",
   "version": "3.11.11"
  }
 },
 "nbformat": 4,
 "nbformat_minor": 5
}
