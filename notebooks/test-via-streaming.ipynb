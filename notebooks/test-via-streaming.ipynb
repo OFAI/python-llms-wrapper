{
 "cells": [
  {
   "cell_type": "markdown",
   "id": "744579c6-ec0c-4c73-bb38-5c99a566056f",
   "metadata": {},
   "source": [
    "# test-via-streaming.ipynb\n",
    "\n",
    "Test the API implementation of the \"via_streaming\"  options which tries to get around timeouts by retrieving the response data \n",
    "using streaming. However this does not prevent timeouts when the first response already takes too long."
   ]
  },
  {
   "cell_type": "code",
   "execution_count": 1,
   "id": "a6da6e33-e3dd-45d3-abad-ad48a617b1db",
   "metadata": {},
   "outputs": [],
   "source": [
    "import os, sys\n",
    "from loguru import logger\n",
    "from typing import Optional, List, Dict\n",
    "sys.path.append(os.path.join(\"..\"))\n",
    "from llms_wrapper.llms import LLMS\n",
    "from llms_wrapper.config import update_llm_config"
   ]
  },
  {
   "cell_type": "code",
   "execution_count": 9,
   "id": "7401b8b9-af81-4a1e-9bfa-bef00ec3ea68",
   "metadata": {},
   "outputs": [
    {
     "data": {
      "text/plain": [
       "['openai/gpt4',\n",
       " 'gemini/gemini-2.0-flash',\n",
       " 'anthropic/claude-3-5-sonnet-20240620',\n",
       " 'anthropic/claude-3-opus-20240229',\n",
       " 'mistral/mistral-large-latest',\n",
       " 'xai/grok-beta',\n",
       " 'groq/llama3-70b-8192',\n",
       " 'groq/llama-3.3-70b-versatile',\n",
       " 'deepseek/deepseek-chat']"
      ]
     },
     "execution_count": 9,
     "metadata": {},
     "output_type": "execute_result"
    }
   ],
   "source": [
    "config = dict(\n",
    "    llms=[\n",
    "        # OpenAI\n",
    "        # https://platform.openai.com/docs/models\n",
    "        dict(llm=\"openai/gpt4\"),\n",
    "        # https://ai.google.dev/gemini-api/docs/models/gemini\n",
    "        dict(llm=\"gemini/gemini-2.0-flash\"),\n",
    "        # Anthropic\n",
    "        # https://docs.anthropic.com/en/docs/about-claude/models\n",
    "        dict(llm=\"anthropic/claude-3-5-sonnet-20240620\"),\n",
    "        dict(llm=\"anthropic/claude-3-opus-20240229\"),\n",
    "        # Mistral\n",
    "        # https://docs.mistral.ai/getting-started/models/models_overview/\n",
    "        dict(llm=\"mistral/mistral-large-latest\"),\n",
    "        # XAI\n",
    "        # dict(llm=\"xai/grok-2\"),     # not mapped by litellm yet?\n",
    "        dict(llm=\"xai/grok-beta\"),\n",
    "        # Groq\n",
    "        # https://console.groq.com/docs/models\n",
    "        dict(llm=\"groq/llama3-70b-8192\"),\n",
    "        dict(llm=\"groq/llama-3.3-70b-versatile\"),\n",
    "        # Deepseek\n",
    "        # https://api-docs.deepseek.com/quick_start/pricing\n",
    "        dict(llm=\"deepseek/deepseek-chat\"),\n",
    "    ],\n",
    "    providers = dict(\n",
    "        openai = dict(api_key_env=\"MY_OPENAI_API_KEY\"),\n",
    "        gemini = dict(api_key_env=\"MY_GEMINI_API_KEY\"),\n",
    "        anthropic = dict(api_key_env=\"MY_ANTHROPIC_API_KEY\"),\n",
    "        mistral = dict(api_key_env=\"MY_MISTRAL_API_KEY\"),\n",
    "        xai = dict(api_key_env=\"MY_XAI_API_KEY\"),    \n",
    "        groq = dict(api_key_env=\"MY_GROQ_API_KEY\"),\n",
    "        deepseek = dict(api_key_env=\"MY_DEEPSEEK_API_KEY\"),\n",
    "    )\n",
    ")\n",
    "config = update_llm_config(config)\n",
    "llms = LLMS(config)\n",
    "llms.list_aliases()"
   ]
  },
  {
   "cell_type": "markdown",
   "id": "09dfe4bc",
   "metadata": {},
   "source": [
    "## Test via_streaming versus default\n",
    "\n"
   ]
  },
  {
   "cell_type": "code",
   "execution_count": 3,
   "id": "a89258b6",
   "metadata": {},
   "outputs": [
    {
     "data": {
      "text/plain": [
       "[{'content': 'What is a monoid? Give me a simple example. Explain why the concept is useful.',\n",
       "  'role': 'user'}]"
      ]
     },
     "execution_count": 3,
     "metadata": {},
     "output_type": "execute_result"
    }
   ],
   "source": [
    "msgs = LLMS.make_messages(\"What is a monoid? Give me a simple example. Explain why the concept is useful.\")\n",
    "msgs"
   ]
  },
  {
   "cell_type": "code",
   "execution_count": 4,
   "id": "b542eaa3-f8f2-4071-b17f-d3108120dcd9",
   "metadata": {},
   "outputs": [],
   "source": [
    "# lmname = \"gemini/gemini-2.0-flash\"\n",
    "llmname = \"mistral/mistral-large-latest\""
   ]
  },
  {
   "cell_type": "code",
   "execution_count": 8,
   "id": "1c795bd0",
   "metadata": {},
   "outputs": [
    {
     "name": "stdout",
     "output_type": "stream",
     "text": [
      "PROCESSING OK, chunks: 342\n",
      "AA **monoid **monoid** is a simple** is a simple algebraic structure algebraic structure from from abstract abstract algebra algebra that that consists of:\n",
      "\n",
      " consists of:\n",
      "\n",
      "1. A1. A **set** ( **set** (ee.g., numbers.g., numbers, strings, functions, strings, functions).\n",
      "2. An).\n",
      "2. An **associative **associative binary operation** ( binary operation** (e.g., additione.g., addition, concaten, concatenation, compositionation, composition).\n",
      "3. An).\n",
      "3. An **identity element** **identity element** (e.g., (e.g., 0 for 0 for addition, the addition, the empty string for empty string for concatenation).\n",
      "\n",
      "### concatenation).\n",
      "\n",
      "### Formal Definition:\n",
      " Formal Definition:\n",
      "A monA monoid isoid is a tuple a tuple \\((M \\((M, \\cdot, \\cdot, e, e)\\))\\) where:\n",
      "- \\( where:\n",
      "- \\(M\\) is aM\\) is a set,\n",
      "- \\(\\ set,\n",
      "- \\(\\cdot:cdot: M \\times M \\times M \\to M \\to M\\) is an M\\) is an associative operation associative operation (i (i.e., \\((.e., \\((a \\cdot ba \\cdot b) \\cdot c) \\cdot c = a \\cdot = a \\cdot (b \\cdot (b \\cdot c)\\) for c)\\) for all \\(a all \\(a, b, c, b, c \\in M\\) \\in M\\)),\n",
      "- \\(),\n",
      "- \\(e \\e \\in M\\) isin M\\) is the identity element ( the identity element (i.e., \\(i.e., \\(e \\cdot ae \\cdot a = a = a \\cdot e = \\cdot e = a\\) for all a\\) for all \\(a \\in \\(a \\in M\\)).\n",
      "\n",
      "---\n",
      "\n",
      " M\\)).\n",
      "\n",
      "---\n",
      "\n",
      "### Simple### Simple Example: Example: Strings with Strings with Conc Concatenation\n",
      "-atenation\n",
      "- **Set (\\( **Set (\\(M\\))**: AllM\\))**: All finite finite strings over strings over an an alphabet (e.g alphabet (e.g., `{\"., `{\"a\", \"ba\", \"b\", \"hello\", \"hello\", \"\"\", \"\"}`).\n",
      "- **}`).\n",
      "- **Operation (\\(\\Operation (\\(\\cdot\\))cdot\\))**: String**: String concatenation (e concatenation (e.g., `\".g., `\"a\" + \"a\" + \"b\" = \"b\" = \"ab\"`).\n",
      "-ab\"`).\n",
      "- **Identity **Identity (\\( (\\(e\\))**: Thee\\))**: The empty string ` empty string `\"\"` (since\"\"` (since `\"a\" + `\"a\" + \"\" = \"\" \"\" = \"\" + \"a\" + \"a\" = \"a\"` = \"a\"`).\n",
      "\n",
      "**Ass).\n",
      "\n",
      "**Associativityociativity holds holds**:\n",
      "`**:\n",
      "`(\"a\" +(\"a\" + \"b\") + \"b\") + \"c\" = \"c\" = \"ab \"ab\" + \"c\" + \"c\" = \"abc\" = \"abc\"` is\"` is the same as `\" the same as `\"a\" + (\"a\" + (\"b\" + \"b\" + \"c\") = \"c\") = \"a\" + \"a\" + \"bc\" = \"bc\" = \"abc\"`.\n",
      "\n",
      "---\n",
      "\n",
      "abc\"`.\n",
      "\n",
      "---\n",
      "\n",
      "### Why### Why Mono Monoids Are Useids Are Useful\n",
      "1.ful\n",
      "1. **Ab **Abstractionstraction**:\n",
      "**:\n",
      "   Mono   Monoids generalizeids generalize common common patterns (like addition patterns (like addition, concaten, concatenation, oration, or merging merging) into a) into a single framework single framework. This allows you. This allows you to write to write generic generic algorithms algorithms (e.g., (e.g., folding folding/re/reduducing lists)cing lists) that work that work for any mon for any monoid.\n",
      "\n",
      "2.oid.\n",
      "\n",
      "2. **Parallel **Parallel Comput Computationation**:\n",
      "   Because**:\n",
      "   Because mono monoids are associative,ids are associative, operations operations can be performed can be performed in any in any order or order or in in parallel. For parallel. For example:\n",
      "   - example:\n",
      "   - Summing a Summing a list of numbers: list of numbers: `( `(11++2)+2)+3 =3 = 1+( 1+(2+3)`.2+3)`. This This enables enables efficient efficient parallelization parallelization (e.g., (e.g., in Map in MapReduceReduce or or distributed distributed systems systems).\n",
      "   - M).\n",
      "   - Merging data inerging data in databases databases (e.g., (e.g., combining results combining results from multiple from multiple nodes nodes).\n",
      "\n",
      "3. **).\n",
      "\n",
      "3. **FunctionalFunctional Programming**:\n",
      "   Mono Programming**:\n",
      "   Monoids are foundids are foundational in functionalational in functional programming. programming. For example:\n",
      "   For example:\n",
      "   - ** - **Folding listsFolding lists**: The**: The `fold` operation `fold` operation ( (e.g., `e.g., `foldfoldrr`` in Haskell in Haskell) relies) relies on mono on monoids to combine elementsids to combine elements.\n",
      "   - **.\n",
      "   - **ComCombinbinatorsators**: Libraries like `**: Libraries like `semsemigigroupoidsroupoids` or` or `cats `cats` (` (in Scala) usein Scala) use mono monoids forids for combining combining configurations configurations,, logs logs, or validation, or validation results results.\n",
      "\n",
      "4. **.\n",
      "\n",
      "4. **Real-WReal-World Applicationsorld Applications**:\n",
      "   - ****:\n",
      "   - **VersionVersion Control Control ( (Git)**:Git)**: M Merging brancheserging branches can can be modeled be modeled as a monoid as a monoid operation (comb operation (combining changesining changes associ associatively).\n",
      "   -atively).\n",
      "   - **Graphics **Graphics**: Combining transformations**: Combining transformations (e.g., (e.g., scaling + scaling + rotating rotating) can) can be a be a monoid.\n",
      "   monoid.\n",
      "   - **Prob - **Probability**: Combability**: Combining probabilities (ining probabilities (e.g., ine.g., in Bayesian networks Bayesian networks) often) often forms forms a monoid.\n",
      "\n",
      " a monoid.\n",
      "\n",
      "5. **The5. **Theoretical Foundoretical Foundations**:\n",
      "   Monoations**:\n",
      "   Monoids are aids are a stepping stepping stone stone to more to more complex complex structures like structures like ** **groups**groups** (monoids (monoids with invers with inverses), **categorieses), **categories**, and **mon**, and **monadsads** (used** (used in functional programming for in functional programming for side side effects).\n",
      "\n",
      "---\n",
      "\n",
      "### effects).\n",
      "\n",
      "---\n",
      "\n",
      "### Another Another Example: Natural Example: Natural Numbers with Numbers with Addition\n",
      "- ** Addition\n",
      "- **Set (\\(M\\))Set (\\(M\\))**: \\(\\**: \\(\\mathbb{N}mathbb{N} = \\{0, = \\{0, 1,  1, 2, \\dots2, \\dots\\}\\).\n",
      "- **\\}\\).\n",
      "- **Operation (\\(\\cdot\\))Operation (\\(\\cdot\\))**: Addition**: Addition (\\( (\\(+\\)).\n",
      "-+\\)).\n",
      "- **Identity (\\(e **Identity (\\(e\\))**: \\(0\\))**: \\(0\\) (since \\(\\) (since \\(a + 0a + 0 = 0 = 0 + a = + a = a\\)).\n",
      "\n",
      "This is a\\)).\n",
      "\n",
      "This is a a monoid because monoid because addition addition is associative and is associative and \\(0\\) \\(0\\) is the identity.\n",
      "\n",
      " is the identity.\n",
      "\n",
      "---\n",
      "\n",
      "### Non---\n",
      "\n",
      "### Non-Examples-Examples\n",
      "- **In\n",
      "- **Integers withtegers with subtraction**: Not associative subtraction**: Not associative ( (e.g., \\((e.g., \\((1 -1 - 2) - 2) - 3 \\ 3 \\neq neq 1 - (1 - (2 - 32 - 3)\\)))\\)) and no identity and no identity.\n",
      "- **Division.\n",
      "- **Division**:**: Not associative Not associative and and no identity element no identity element.\n",
      "\n",
      "---\n",
      "### Key.\n",
      "\n",
      "---\n",
      "### Key Takeaway\n",
      "M Takeaway\n",
      "Monoids provideonoids provide a minimal a minimal but but powerful way to model powerful way to model \"combin \"combinable thingsable things\" with a\" with a neutral neutral element element. Their. Their simplicity makes simplicity makes them widely them widely applicable applicable in math in math, computer, computer science, and engineering science, and engineering..\n"
     ]
    }
   ],
   "source": [
    "# logger.enable(\"llms_wrapper\")\n",
    "logger.disable(\"llms_wrapper\")\n",
    "ret = llms.query(\n",
    "    llmname, msgs, temperature=0.5, litellm_debug=False, \n",
    "    via_streaming=True,   # or from config!!\n",
    "    debug=False,\n",
    ")\n",
    "if ret[\"ok\"]:\n",
    "    print(\"PROCESSING OK, chunks:\", ret[\"n_chunks\"])\n",
    "    print(ret[\"answer\"].strip())\n",
    "else:\n",
    "    print(\"!!!!!Error:\", ret[\"error\"])"
   ]
  },
  {
   "cell_type": "code",
   "execution_count": null,
   "id": "491b0ddb",
   "metadata": {},
   "outputs": [],
   "source": [
    "# Standard/default way to do it .... \n",
    "logger.disable(\"llms_wrapper\")\n",
    "ret = llms.query(\n",
    "    llmname, msgs, temperature=0.5, litellm_debug=False, debug=False)\n",
    "if ret[\"ok\"]:\n",
    "    print(\"PROCESSING OK, chunks:\", ret[\"n_chunks\"])\n",
    "    print(ret[\"answer\"].strip())\n",
    "else:\n",
    "    print(\"!!!!!Error:\", ret[\"error\"])"
   ]
  },
  {
   "cell_type": "code",
   "execution_count": null,
   "id": "f7fa724b",
   "metadata": {},
   "outputs": [],
   "source": []
  }
 ],
 "metadata": {
  "kernelspec": {
   "display_name": "Python 3 (ipykernel)",
   "language": "python",
   "name": "python3"
  },
  "language_info": {
   "codemirror_mode": {
    "name": "ipython",
    "version": 3
   },
   "file_extension": ".py",
   "mimetype": "text/x-python",
   "name": "python",
   "nbconvert_exporter": "python",
   "pygments_lexer": "ipython3",
   "version": "3.11.11"
  }
 },
 "nbformat": 4,
 "nbformat_minor": 5
}
