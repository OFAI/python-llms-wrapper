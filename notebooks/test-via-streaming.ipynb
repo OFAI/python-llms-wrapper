{
 "cells": [
  {
   "cell_type": "markdown",
   "id": "744579c6-ec0c-4c73-bb38-5c99a566056f",
   "metadata": {},
   "source": [
    "# test-via-streaming.ipynb\n",
    "\n",
    "Test the API implementation of the \"via_streaming\"  options which tries to get around timeouts by retrieving the response data \n",
    "using streaming. However this does not prevent timeouts when the first response already takes too long."
   ]
  },
  {
   "cell_type": "code",
   "execution_count": 8,
   "id": "a6da6e33-e3dd-45d3-abad-ad48a617b1db",
   "metadata": {},
   "outputs": [],
   "source": [
    "import os, sys\n",
    "from loguru import logger\n",
    "from typing import Optional, List, Dict\n",
    "sys.path.append(os.path.join(\"..\"))\n",
    "from llms_wrapper.llms import LLMS\n",
    "from llms_wrapper.config import update_llm_config"
   ]
  },
  {
   "cell_type": "code",
   "execution_count": 9,
   "id": "7401b8b9-af81-4a1e-9bfa-bef00ec3ea68",
   "metadata": {},
   "outputs": [
    {
     "data": {
      "text/plain": [
       "['openai/gpt4',\n",
       " 'gemini/gemini-2.0-flash',\n",
       " 'anthropic/claude-3-5-sonnet-20240620',\n",
       " 'anthropic/claude-3-opus-20240229',\n",
       " 'mistral/mistral-large-latest',\n",
       " 'xai/grok-beta',\n",
       " 'groq/llama3-70b-8192',\n",
       " 'groq/llama-3.3-70b-versatile',\n",
       " 'deepseek/deepseek-chat']"
      ]
     },
     "execution_count": 9,
     "metadata": {},
     "output_type": "execute_result"
    }
   ],
   "source": [
    "config = dict(\n",
    "    llms=[\n",
    "        # OpenAI\n",
    "        # https://platform.openai.com/docs/models\n",
    "        dict(llm=\"openai/gpt4\"),\n",
    "        # https://ai.google.dev/gemini-api/docs/models/gemini\n",
    "        dict(llm=\"gemini/gemini-2.0-flash\"),\n",
    "        # Anthropic\n",
    "        # https://docs.anthropic.com/en/docs/about-claude/models\n",
    "        dict(llm=\"anthropic/claude-3-5-sonnet-20240620\"),\n",
    "        dict(llm=\"anthropic/claude-3-opus-20240229\"),\n",
    "        # Mistral\n",
    "        # https://docs.mistral.ai/getting-started/models/models_overview/\n",
    "        dict(llm=\"mistral/mistral-large-latest\"),\n",
    "        # XAI\n",
    "        # dict(llm=\"xai/grok-2\"),     # not mapped by litellm yet?\n",
    "        dict(llm=\"xai/grok-beta\"),\n",
    "        # Groq\n",
    "        # https://console.groq.com/docs/models\n",
    "        dict(llm=\"groq/llama3-70b-8192\"),\n",
    "        dict(llm=\"groq/llama-3.3-70b-versatile\"),\n",
    "        # Deepseek\n",
    "        # https://api-docs.deepseek.com/quick_start/pricing\n",
    "        dict(llm=\"deepseek/deepseek-chat\"),\n",
    "    ],\n",
    "    providers = dict(\n",
    "        openai = dict(api_key_env=\"MY_OPENAI_API_KEY\"),\n",
    "        gemini = dict(api_key_env=\"MY_GEMINI_API_KEY\"),\n",
    "        anthropic = dict(api_key_env=\"MY_ANTHROPIC_API_KEY\"),\n",
    "        mistral = dict(api_key_env=\"MY_MISTRAL_API_KEY\"),\n",
    "        xai = dict(api_key_env=\"MY_XAI_API_KEY\"),    \n",
    "        groq = dict(api_key_env=\"MY_GROQ_API_KEY\"),\n",
    "        deepseek = dict(api_key_env=\"MY_DEEPSEEK_API_KEY\"),\n",
    "    )\n",
    ")\n",
    "config = update_llm_config(config)\n",
    "llms = LLMS(config)\n",
    "llms.list_aliases()"
   ]
  },
  {
   "cell_type": "markdown",
   "id": "09dfe4bc",
   "metadata": {},
   "source": [
    "## Test via_streaming versus default\n",
    "\n"
   ]
  },
  {
   "cell_type": "code",
   "execution_count": 10,
   "id": "a89258b6",
   "metadata": {},
   "outputs": [
    {
     "data": {
      "text/plain": [
       "[{'content': 'What is a monoid? Give me a simple example. Explain why the concept is useful.',\n",
       "  'role': 'user'}]"
      ]
     },
     "execution_count": 10,
     "metadata": {},
     "output_type": "execute_result"
    }
   ],
   "source": [
    "msgs = LLMS.make_messages(\"What is a monoid? Give me a simple example. Explain why the concept is useful.\")\n",
    "msgs"
   ]
  },
  {
   "cell_type": "code",
   "execution_count": 13,
   "id": "b542eaa3-f8f2-4071-b17f-d3108120dcd9",
   "metadata": {},
   "outputs": [],
   "source": [
    "# llmname = \"gemini/gemini-2.0-flash\"\n",
    "llmname = \"mistral/mistral-large-latest\""
   ]
  },
  {
   "cell_type": "code",
   "execution_count": 14,
   "id": "1c795bd0",
   "metadata": {},
   "outputs": [
    {
     "name": "stdout",
     "output_type": "stream",
     "text": [
      "PROCESSING OK, chunks: 390\n",
      "### **What is a Monoid?**\n",
      "A **monoid** is a simple algebraic structure in mathematics and computer science that consists of:\n",
      "1. A **set** (e.g., numbers, strings, lists).\n",
      "2. An **associative binary operation** (e.g., addition, concatenation) that combines two elements of the set.\n",
      "3. An **identity element** (e.g., `0` for addition, `\"\"` for string concatenation) that leaves other elements unchanged when combined.\n",
      "\n",
      "Formally, a monoid is a tuple `(M, ✱, e)` where:\n",
      "- `M` is a set,\n",
      "- `✱: M × M → M` is an associative operation,\n",
      "- `e ∈ M` is the identity element such that for any `a ∈ M`:\n",
      "  - `e ✱ a = a ✱ e = a`.\n",
      "\n",
      "---\n",
      "\n",
      "### **Simple Example: Strings with Concatenation**\n",
      "- **Set (`M`)**: All possible strings (e.g., `\"hello\"`, `\"world\"`, `\"\"`).\n",
      "- **Operation (`✱`)**: String concatenation (`++`).\n",
      "  - `\"a\" ++ \"b\" = \"ab\"` (associative: `(\"a\" ++ \"b\") ++ \"c\" = \"a\" ++ (\"b\" ++ \"c\")`).\n",
      "- **Identity (`e`)**: The empty string `\"\"`.\n",
      "  - `\"\" ++ \"x\" = \"x\" ++ \"\" = \"x\"`.\n",
      "\n",
      "This forms a monoid because:\n",
      "1. Concatenation is associative.\n",
      "2. The empty string is the identity.\n",
      "\n",
      "---\n",
      "\n",
      "### **Why are Monoids Useful?**\n",
      "1. **Abstraction for Combining Things**:\n",
      "   Monoids provide a general way to \"combine\" elements (e.g., summing numbers, merging lists, concatenating logs). This abstraction appears in functional programming, databases, and parallel computing.\n",
      "\n",
      "2. **Parallelizability**:\n",
      "   Since the operation is associative, computations can be split across threads/machines and combined later. Example:\n",
      "   - Summing a large list of numbers can be done in parallel because `(a + b) + c = a + (b + c)`.\n",
      "\n",
      "3. **Functional Programming**:\n",
      "   Monoids are used in libraries like Haskell’s `Data.Monoid` or Scala’s `cats` to compose operations cleanly. For example:\n",
      "   - Combining configurations, merging maps, or accumulating results in folds (`foldMap`).\n",
      "\n",
      "4. **Databases (MapReduce)**:\n",
      "   Monoids enable efficient aggregation (e.g., `SUM`, `COUNT`, `GROUP BY` in SQL) because operations can be distributed and recombined.\n",
      "\n",
      "5. **Formal Verification**:\n",
      "   They help model systems where order-independent combinations matter (e.g., cryptographic hashing, network protocols).\n",
      "\n",
      "---\n",
      "\n",
      "### **Other Examples of Monoids**\n",
      "| Set (`M`)          | Operation (`✱`) | Identity (`e`) | Example                     |\n",
      "|--------------------|------------------|-----------------|-----------------------------|\n",
      "| Integers           | Addition (`+`)   | `0`             | `3 + 0 = 3`                 |\n",
      "| Integers           | Multiplication (`*`) | `1`         | `5 * 1 = 5`                 |\n",
      "| Lists              | Concatenation (`++`) | `[]` (empty list) | `[1] ++ [] = [1]`       |\n",
      "| Booleans (AND)     | Logical AND (`&&`) | `True`         | `True && x = x`             |\n",
      "| Booleans (OR)      | Logical OR (`||`)  | `False`        | `False || x = x`            |\n",
      "\n",
      "---\n",
      "\n",
      "### **Non-Examples (What’s *Not* a Monoid?)**\n",
      "1. **Integers with subtraction (`-`)**:\n",
      "   Not associative (`(5 - 3) - 1 ≠ 5 - (3 - 1)`), and no identity element exists.\n",
      "2. **Division (`/`)**:\n",
      "   Not associative, and `1` isn’t an identity for all elements (e.g., `5 / 1 = 5`, but `1 / 5 ≠ 5`).\n",
      "3. **Sets with union *without* an empty set**:\n",
      "   Union is associative, but missing the identity (the empty set `∅`).\n",
      "\n",
      "---\n",
      "\n",
      "### **Key Takeaway**\n",
      "A monoid is a \"combiner with an empty element.\" Its simplicity makes it powerful for modeling operations where order doesn’t matter, enabling efficient, composable, and parallelizable computations. This concept is foundational in both theory (category theory, algebra) and practice (programming, distributed systems).\n"
     ]
    }
   ],
   "source": [
    "# logger.enable(\"llms_wrapper\")\n",
    "logger.disable(\"llms_wrapper\")\n",
    "ret = llms.query(\n",
    "    llmname, msgs, temperature=0.5, litellm_debug=False, \n",
    "    via_streaming=True,   # or from config!!\n",
    "    debug=False,\n",
    ")\n",
    "if ret[\"ok\"]:\n",
    "    print(\"PROCESSING OK, chunks:\", ret[\"n_chunks\"])\n",
    "    print(ret[\"answer\"].strip())\n",
    "else:\n",
    "    print(\"!!!!!Error:\", ret[\"error\"])"
   ]
  },
  {
   "cell_type": "code",
   "execution_count": 10,
   "id": "491b0ddb",
   "metadata": {},
   "outputs": [
    {
     "name": "stdout",
     "output_type": "stream",
     "text": [
      "PROCESSING OK, chunks: 1\n",
      "A **monoid** is a fundamental algebraic structure in mathematics and computer science that consists of:\n",
      "\n",
      "1. **A set** (e.g., numbers, strings, functions).\n",
      "2. **An associative binary operation** (e.g., addition, concatenation) that combines two elements of the set to produce another element of the same set.\n",
      "3. **An identity element** (e.g., 0 for addition, the empty string for concatenation) that leaves other elements unchanged when combined with them.\n",
      "\n",
      "### Simple Example: Strings with Concatenation\n",
      "- **Set**: All possible strings (e.g., `\"a\"`, `\"hello\"`, `\"\"`).\n",
      "- **Operation**: Concatenation (e.g., `\"a\" + \"b\" = \"ab\"`).\n",
      "- **Identity element**: The empty string `\"\"` (since `\"a\" + \"\" = \"a\"`).\n",
      "\n",
      "This forms a monoid because:\n",
      "- Concatenation is **associative**: `(x + y) + z = x + (y + z)`.\n",
      "- The empty string is the **identity**: `x + \"\" = x`.\n",
      "\n",
      "---\n",
      "\n",
      "### Why Monoids Are Useful\n",
      "1. **Abstraction**: Monoids generalize common operations (like addition, multiplication, or list appending) into a single framework, making it easier to reason about them.\n",
      "2. **Parallelism**: Associativity allows operations to be performed in any order, enabling efficient parallel computation (e.g., MapReduce uses monoids to combine results from distributed workers).\n",
      "3. **Functional Programming**: Monoids are key in functional programming for combining data (e.g., folding lists, merging data structures).\n",
      "4. **Category Theory**: Monoids appear in advanced math and CS as a building block for more complex structures (e.g., monads).\n",
      "\n",
      "### Another Example: Numbers with Addition\n",
      "- **Set**: Integers `{0, 1, -1, 2, ...}`.\n",
      "- **Operation**: Addition (`+`).\n",
      "- **Identity**: `0` (since `x + 0 = x`).\n",
      "\n",
      "This is also a monoid because addition is associative and `0` is the identity.\n",
      "\n",
      "---\n",
      "### Key Takeaway\n",
      "A monoid is a simple but powerful way to describe \"combinable things with a neutral element.\" Its properties enable efficient, predictable, and scalable computations in many areas.\n"
     ]
    }
   ],
   "source": [
    "# Standard/default way to do it .... \n",
    "logger.disable(\"llms_wrapper\")\n",
    "ret = llms.query(\n",
    "    llmname, msgs, temperature=0.5, litellm_debug=False, debug=False)\n",
    "if ret[\"ok\"]:\n",
    "    print(\"PROCESSING OK, chunks:\", ret[\"n_chunks\"])\n",
    "    print(ret[\"answer\"].strip())\n",
    "else:\n",
    "    print(\"!!!!!Error:\", ret[\"error\"])"
   ]
  },
  {
   "cell_type": "code",
   "execution_count": null,
   "id": "f7fa724b",
   "metadata": {},
   "outputs": [],
   "source": []
  }
 ],
 "metadata": {
  "kernelspec": {
   "display_name": "Python 3 (ipykernel)",
   "language": "python",
   "name": "python3"
  },
  "language_info": {
   "codemirror_mode": {
    "name": "ipython",
    "version": 3
   },
   "file_extension": ".py",
   "mimetype": "text/x-python",
   "name": "python",
   "nbconvert_exporter": "python",
   "pygments_lexer": "ipython3",
   "version": "3.11.11"
  }
 },
 "nbformat": 4,
 "nbformat_minor": 5
}
